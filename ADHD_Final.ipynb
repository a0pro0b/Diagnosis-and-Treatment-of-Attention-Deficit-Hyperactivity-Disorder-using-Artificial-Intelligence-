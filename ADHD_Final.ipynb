{
  "nbformat": 4,
  "nbformat_minor": 0,
  "metadata": {
    "colab": {
      "name": "ADHD_Final.ipynb",
      "provenance": [],
      "collapsed_sections": [],
      "include_colab_link": true
    },
    "kernelspec": {
      "name": "python3",
      "display_name": "Python 3"
    },
    "language_info": {
      "name": "python"
    }
  },
  "cells": [
    {
      "cell_type": "markdown",
      "metadata": {
        "id": "view-in-github",
        "colab_type": "text"
      },
      "source": [
        "<a href=\"https://colab.research.google.com/github/a0pro0b/Diagnosis-and-Treatment-of-Attention-Deficit-Hyperactivity-Disorder-using-Artificial-Intelligence-/blob/main/ADHD_Final.ipynb\" target=\"_parent\"><img src=\"https://colab.research.google.com/assets/colab-badge.svg\" alt=\"Open In Colab\"/></a>"
      ]
    },
    {
      "cell_type": "code",
      "metadata": {
        "colab": {
          "base_uri": "https://localhost:8080/"
        },
        "id": "hIZ3wIGXKMl2",
        "outputId": "eed5784c-37f2-4b6c-8272-b5d125778979"
      },
      "source": [
        "from google.colab import drive\n",
        "drive.mount('/gdrive')"
      ],
      "execution_count": null,
      "outputs": [
        {
          "output_type": "stream",
          "text": [
            "Drive already mounted at /gdrive; to attempt to forcibly remount, call drive.mount(\"/gdrive\", force_remount=True).\n"
          ],
          "name": "stdout"
        }
      ]
    },
    {
      "cell_type": "code",
      "metadata": {
        "id": "Hzd2jT6EMuLG"
      },
      "source": [
        "import pandas as pd\n",
        "import numpy as np\n",
        "import matplotlib.pyplot as plt\n",
        "%matplotlib inline"
      ],
      "execution_count": null,
      "outputs": []
    },
    {
      "cell_type": "code",
      "metadata": {
        "id": "wj7dSswpMz0R"
      },
      "source": [
        "path='/gdrive/My Drive/ML/mywork/'"
      ],
      "execution_count": null,
      "outputs": []
    },
    {
      "cell_type": "code",
      "metadata": {
        "colab": {
          "base_uri": "https://localhost:8080/",
          "height": 415
        },
        "id": "vwjo2-06M5b2",
        "outputId": "c1d740c1-e15d-41ae-8e70-1939e991d0f4"
      },
      "source": [
        "raw_data=pd.read_csv(path+'allSubs_testSet_phenotypic_dx.csv')\n",
        "raw_data.head(5)"
      ],
      "execution_count": null,
      "outputs": [
        {
          "output_type": "error",
          "ename": "FileNotFoundError",
          "evalue": "ignored",
          "traceback": [
            "\u001b[0;31m---------------------------------------------------------------------------\u001b[0m",
            "\u001b[0;31mFileNotFoundError\u001b[0m                         Traceback (most recent call last)",
            "\u001b[0;32m<ipython-input-8-52dc137674ac>\u001b[0m in \u001b[0;36m<module>\u001b[0;34m()\u001b[0m\n\u001b[0;32m----> 1\u001b[0;31m \u001b[0mraw_data\u001b[0m\u001b[0;34m=\u001b[0m\u001b[0mpd\u001b[0m\u001b[0;34m.\u001b[0m\u001b[0mread_csv\u001b[0m\u001b[0;34m(\u001b[0m\u001b[0mpath\u001b[0m\u001b[0;34m+\u001b[0m\u001b[0;34m'allSubs_testSet_phenotypic_dx.csv'\u001b[0m\u001b[0;34m)\u001b[0m\u001b[0;34m\u001b[0m\u001b[0;34m\u001b[0m\u001b[0m\n\u001b[0m\u001b[1;32m      2\u001b[0m \u001b[0mraw_data\u001b[0m\u001b[0;34m.\u001b[0m\u001b[0mhead\u001b[0m\u001b[0;34m(\u001b[0m\u001b[0;36m5\u001b[0m\u001b[0;34m)\u001b[0m\u001b[0;34m\u001b[0m\u001b[0;34m\u001b[0m\u001b[0m\n",
            "\u001b[0;32m/usr/local/lib/python3.7/dist-packages/pandas/io/parsers.py\u001b[0m in \u001b[0;36mread_csv\u001b[0;34m(filepath_or_buffer, sep, delimiter, header, names, index_col, usecols, squeeze, prefix, mangle_dupe_cols, dtype, engine, converters, true_values, false_values, skipinitialspace, skiprows, skipfooter, nrows, na_values, keep_default_na, na_filter, verbose, skip_blank_lines, parse_dates, infer_datetime_format, keep_date_col, date_parser, dayfirst, cache_dates, iterator, chunksize, compression, thousands, decimal, lineterminator, quotechar, quoting, doublequote, escapechar, comment, encoding, dialect, error_bad_lines, warn_bad_lines, delim_whitespace, low_memory, memory_map, float_precision)\u001b[0m\n\u001b[1;32m    686\u001b[0m     )\n\u001b[1;32m    687\u001b[0m \u001b[0;34m\u001b[0m\u001b[0m\n\u001b[0;32m--> 688\u001b[0;31m     \u001b[0;32mreturn\u001b[0m \u001b[0m_read\u001b[0m\u001b[0;34m(\u001b[0m\u001b[0mfilepath_or_buffer\u001b[0m\u001b[0;34m,\u001b[0m \u001b[0mkwds\u001b[0m\u001b[0;34m)\u001b[0m\u001b[0;34m\u001b[0m\u001b[0;34m\u001b[0m\u001b[0m\n\u001b[0m\u001b[1;32m    689\u001b[0m \u001b[0;34m\u001b[0m\u001b[0m\n\u001b[1;32m    690\u001b[0m \u001b[0;34m\u001b[0m\u001b[0m\n",
            "\u001b[0;32m/usr/local/lib/python3.7/dist-packages/pandas/io/parsers.py\u001b[0m in \u001b[0;36m_read\u001b[0;34m(filepath_or_buffer, kwds)\u001b[0m\n\u001b[1;32m    452\u001b[0m \u001b[0;34m\u001b[0m\u001b[0m\n\u001b[1;32m    453\u001b[0m     \u001b[0;31m# Create the parser.\u001b[0m\u001b[0;34m\u001b[0m\u001b[0;34m\u001b[0m\u001b[0;34m\u001b[0m\u001b[0m\n\u001b[0;32m--> 454\u001b[0;31m     \u001b[0mparser\u001b[0m \u001b[0;34m=\u001b[0m \u001b[0mTextFileReader\u001b[0m\u001b[0;34m(\u001b[0m\u001b[0mfp_or_buf\u001b[0m\u001b[0;34m,\u001b[0m \u001b[0;34m**\u001b[0m\u001b[0mkwds\u001b[0m\u001b[0;34m)\u001b[0m\u001b[0;34m\u001b[0m\u001b[0;34m\u001b[0m\u001b[0m\n\u001b[0m\u001b[1;32m    455\u001b[0m \u001b[0;34m\u001b[0m\u001b[0m\n\u001b[1;32m    456\u001b[0m     \u001b[0;32mif\u001b[0m \u001b[0mchunksize\u001b[0m \u001b[0;32mor\u001b[0m \u001b[0miterator\u001b[0m\u001b[0;34m:\u001b[0m\u001b[0;34m\u001b[0m\u001b[0;34m\u001b[0m\u001b[0m\n",
            "\u001b[0;32m/usr/local/lib/python3.7/dist-packages/pandas/io/parsers.py\u001b[0m in \u001b[0;36m__init__\u001b[0;34m(self, f, engine, **kwds)\u001b[0m\n\u001b[1;32m    946\u001b[0m             \u001b[0mself\u001b[0m\u001b[0;34m.\u001b[0m\u001b[0moptions\u001b[0m\u001b[0;34m[\u001b[0m\u001b[0;34m\"has_index_names\"\u001b[0m\u001b[0;34m]\u001b[0m \u001b[0;34m=\u001b[0m \u001b[0mkwds\u001b[0m\u001b[0;34m[\u001b[0m\u001b[0;34m\"has_index_names\"\u001b[0m\u001b[0;34m]\u001b[0m\u001b[0;34m\u001b[0m\u001b[0;34m\u001b[0m\u001b[0m\n\u001b[1;32m    947\u001b[0m \u001b[0;34m\u001b[0m\u001b[0m\n\u001b[0;32m--> 948\u001b[0;31m         \u001b[0mself\u001b[0m\u001b[0;34m.\u001b[0m\u001b[0m_make_engine\u001b[0m\u001b[0;34m(\u001b[0m\u001b[0mself\u001b[0m\u001b[0;34m.\u001b[0m\u001b[0mengine\u001b[0m\u001b[0;34m)\u001b[0m\u001b[0;34m\u001b[0m\u001b[0;34m\u001b[0m\u001b[0m\n\u001b[0m\u001b[1;32m    949\u001b[0m \u001b[0;34m\u001b[0m\u001b[0m\n\u001b[1;32m    950\u001b[0m     \u001b[0;32mdef\u001b[0m \u001b[0mclose\u001b[0m\u001b[0;34m(\u001b[0m\u001b[0mself\u001b[0m\u001b[0;34m)\u001b[0m\u001b[0;34m:\u001b[0m\u001b[0;34m\u001b[0m\u001b[0;34m\u001b[0m\u001b[0m\n",
            "\u001b[0;32m/usr/local/lib/python3.7/dist-packages/pandas/io/parsers.py\u001b[0m in \u001b[0;36m_make_engine\u001b[0;34m(self, engine)\u001b[0m\n\u001b[1;32m   1178\u001b[0m     \u001b[0;32mdef\u001b[0m \u001b[0m_make_engine\u001b[0m\u001b[0;34m(\u001b[0m\u001b[0mself\u001b[0m\u001b[0;34m,\u001b[0m \u001b[0mengine\u001b[0m\u001b[0;34m=\u001b[0m\u001b[0;34m\"c\"\u001b[0m\u001b[0;34m)\u001b[0m\u001b[0;34m:\u001b[0m\u001b[0;34m\u001b[0m\u001b[0;34m\u001b[0m\u001b[0m\n\u001b[1;32m   1179\u001b[0m         \u001b[0;32mif\u001b[0m \u001b[0mengine\u001b[0m \u001b[0;34m==\u001b[0m \u001b[0;34m\"c\"\u001b[0m\u001b[0;34m:\u001b[0m\u001b[0;34m\u001b[0m\u001b[0;34m\u001b[0m\u001b[0m\n\u001b[0;32m-> 1180\u001b[0;31m             \u001b[0mself\u001b[0m\u001b[0;34m.\u001b[0m\u001b[0m_engine\u001b[0m \u001b[0;34m=\u001b[0m \u001b[0mCParserWrapper\u001b[0m\u001b[0;34m(\u001b[0m\u001b[0mself\u001b[0m\u001b[0;34m.\u001b[0m\u001b[0mf\u001b[0m\u001b[0;34m,\u001b[0m \u001b[0;34m**\u001b[0m\u001b[0mself\u001b[0m\u001b[0;34m.\u001b[0m\u001b[0moptions\u001b[0m\u001b[0;34m)\u001b[0m\u001b[0;34m\u001b[0m\u001b[0;34m\u001b[0m\u001b[0m\n\u001b[0m\u001b[1;32m   1181\u001b[0m         \u001b[0;32melse\u001b[0m\u001b[0;34m:\u001b[0m\u001b[0;34m\u001b[0m\u001b[0;34m\u001b[0m\u001b[0m\n\u001b[1;32m   1182\u001b[0m             \u001b[0;32mif\u001b[0m \u001b[0mengine\u001b[0m \u001b[0;34m==\u001b[0m \u001b[0;34m\"python\"\u001b[0m\u001b[0;34m:\u001b[0m\u001b[0;34m\u001b[0m\u001b[0;34m\u001b[0m\u001b[0m\n",
            "\u001b[0;32m/usr/local/lib/python3.7/dist-packages/pandas/io/parsers.py\u001b[0m in \u001b[0;36m__init__\u001b[0;34m(self, src, **kwds)\u001b[0m\n\u001b[1;32m   2008\u001b[0m         \u001b[0mkwds\u001b[0m\u001b[0;34m[\u001b[0m\u001b[0;34m\"usecols\"\u001b[0m\u001b[0;34m]\u001b[0m \u001b[0;34m=\u001b[0m \u001b[0mself\u001b[0m\u001b[0;34m.\u001b[0m\u001b[0musecols\u001b[0m\u001b[0;34m\u001b[0m\u001b[0;34m\u001b[0m\u001b[0m\n\u001b[1;32m   2009\u001b[0m \u001b[0;34m\u001b[0m\u001b[0m\n\u001b[0;32m-> 2010\u001b[0;31m         \u001b[0mself\u001b[0m\u001b[0;34m.\u001b[0m\u001b[0m_reader\u001b[0m \u001b[0;34m=\u001b[0m \u001b[0mparsers\u001b[0m\u001b[0;34m.\u001b[0m\u001b[0mTextReader\u001b[0m\u001b[0;34m(\u001b[0m\u001b[0msrc\u001b[0m\u001b[0;34m,\u001b[0m \u001b[0;34m**\u001b[0m\u001b[0mkwds\u001b[0m\u001b[0;34m)\u001b[0m\u001b[0;34m\u001b[0m\u001b[0;34m\u001b[0m\u001b[0m\n\u001b[0m\u001b[1;32m   2011\u001b[0m         \u001b[0mself\u001b[0m\u001b[0;34m.\u001b[0m\u001b[0munnamed_cols\u001b[0m \u001b[0;34m=\u001b[0m \u001b[0mself\u001b[0m\u001b[0;34m.\u001b[0m\u001b[0m_reader\u001b[0m\u001b[0;34m.\u001b[0m\u001b[0munnamed_cols\u001b[0m\u001b[0;34m\u001b[0m\u001b[0;34m\u001b[0m\u001b[0m\n\u001b[1;32m   2012\u001b[0m \u001b[0;34m\u001b[0m\u001b[0m\n",
            "\u001b[0;32mpandas/_libs/parsers.pyx\u001b[0m in \u001b[0;36mpandas._libs.parsers.TextReader.__cinit__\u001b[0;34m()\u001b[0m\n",
            "\u001b[0;32mpandas/_libs/parsers.pyx\u001b[0m in \u001b[0;36mpandas._libs.parsers.TextReader._setup_parser_source\u001b[0;34m()\u001b[0m\n",
            "\u001b[0;31mFileNotFoundError\u001b[0m: [Errno 2] No such file or directory: '/gdrive/My Drive/ML :  April 2021 Weekends/Participants/Sandhya P/mywork/allSubs_testSet_phenotypic_dx.csv'"
          ]
        }
      ]
    },
    {
      "cell_type": "markdown",
      "metadata": {
        "id": "zLiE9w9rOLdJ"
      },
      "source": [
        "ADHD-200 Phenotypic Key\n",
        "\n",
        "\n",
        "Site\n",
        "\n",
        "1 Peking University\n",
        "\n",
        "2 Bradley Hospital/Brown University\n",
        "\n",
        "3 Kennedy Krieger Institute\n",
        "\n",
        "4 NeuroIMAGE Sample\n",
        "\n",
        "5 New York University Child Study Center\n",
        "\n",
        "6 Oregon Health & Science University\n",
        "\n",
        "7 University of Pittsburgh\n",
        "\n",
        "8 Washington University in St. Louis\n",
        "\n",
        "\n",
        "Gender\n",
        "\n",
        "0 Female\n",
        "\n",
        "1 Male\n",
        "\n",
        "\n",
        "Handedness\n",
        "\n",
        "0 Left\n",
        "\n",
        "1 Right\n",
        "\n",
        "2 Ambidextrous\n",
        "\n",
        "\n",
        "Diagnosis\n",
        "\n",
        "0 Typically Developing Children\n",
        "\n",
        "1 ADHD-Combined\n",
        "\n",
        "2 ADHD-Hyperactive/Impulsive\n",
        "\n",
        "3 ADHD-Inattentive\n",
        "\n",
        "\n",
        "ADHD Measure\n",
        "\n",
        "1 ADHD Rating Scale IV (ADHD-RS)\n",
        "\n",
        "2 Conners’ Parent Rating Scale-Revised, Long version (CPRS-LV)\n",
        "\n",
        "3 Connors’ Rating Scale-3rd Edition\n",
        "\n",
        "\n",
        "IQ Measure\n",
        "\n",
        "1 Wechsler Intelligence Scale for Children, Fourth Edition (WISC-IV)\n",
        "\n",
        "2 Wechsler Abbreviated Scale of Intelligence (WASI)\n",
        "\n",
        "3 Wechsler Intelligence Scale for Chinese Children-Revised (WISCC-R)\n",
        "\n",
        "4 Two subtest WASI\n",
        "\n",
        "5 Two subtest WISC or WAIS – Block Design and Vocabulary\n",
        "\n",
        "\n",
        "Medication Status\n",
        "\n",
        "1 Medication Naïve\n",
        "\n",
        "2 Not Medication Naïve\n",
        "\n",
        "\n",
        "Quality Control\n",
        "\n",
        "0 Questionable\n",
        "\n",
        "1 Pass\n"
      ]
    },
    {
      "cell_type": "markdown",
      "metadata": {
        "id": "hr2x1tZ1QcEU"
      },
      "source": [
        "PREPROCESSING"
      ]
    },
    {
      "cell_type": "markdown",
      "metadata": {
        "id": "ynqCqARqQsy_"
      },
      "source": [
        "DROP UNWANTED FEATURES"
      ]
    },
    {
      "cell_type": "code",
      "metadata": {
        "id": "cV7TtIlmQfOA"
      },
      "source": [
        "raw_data=raw_data.drop(columns=['Disclaimer','ID','Site','Secondary Dx ','Full2 IQ','QC_Rest_1','QC_Rest_2','QC_Rest_3','QC_Rest_4','QC_Anatomical_2'])"
      ],
      "execution_count": null,
      "outputs": []
    },
    {
      "cell_type": "code",
      "metadata": {
        "id": "xVDZk4KnTSel"
      },
      "source": [
        "raw_data"
      ],
      "execution_count": null,
      "outputs": []
    },
    {
      "cell_type": "markdown",
      "metadata": {
        "id": "klFyxRGgTl6E"
      },
      "source": [
        "FILL NAN BY 0"
      ]
    },
    {
      "cell_type": "code",
      "metadata": {
        "id": "Khh21Q45ToOh"
      },
      "source": [
        "raw_data=raw_data.fillna(0)"
      ],
      "execution_count": null,
      "outputs": []
    },
    {
      "cell_type": "code",
      "metadata": {
        "id": "zIOBQvctTqxG"
      },
      "source": [
        "raw_data"
      ],
      "execution_count": null,
      "outputs": []
    },
    {
      "cell_type": "markdown",
      "metadata": {
        "id": "Dd11FABeT2N9"
      },
      "source": [
        "DELETING PENDING ROWS"
      ]
    },
    {
      "cell_type": "code",
      "metadata": {
        "id": "q-87mQZ3T4hW"
      },
      "source": [
        "dropset=raw_data.index[raw_data['DX']==\"pending\"].tolist()\n",
        "dropset,len(dropset)"
      ],
      "execution_count": null,
      "outputs": []
    },
    {
      "cell_type": "code",
      "metadata": {
        "id": "QHHkqbm9T-55"
      },
      "source": [
        "raw_data.drop(raw_data.index[dropset],inplace=True)"
      ],
      "execution_count": null,
      "outputs": []
    },
    {
      "cell_type": "code",
      "metadata": {
        "id": "G0sJLyurUAxL"
      },
      "source": [
        "raw_data"
      ],
      "execution_count": null,
      "outputs": []
    },
    {
      "cell_type": "code",
      "metadata": {
        "id": "4wUzKH4aUFix"
      },
      "source": [
        "raw_data=raw_data.reset_index()\n",
        "raw_data"
      ],
      "execution_count": null,
      "outputs": []
    },
    {
      "cell_type": "markdown",
      "metadata": {
        "id": "uKO0y93XUdec"
      },
      "source": [
        "SPLITTING IP AND OP"
      ]
    },
    {
      "cell_type": "code",
      "metadata": {
        "id": "27QJ7x-qUhLg"
      },
      "source": [
        "ip=raw_data.drop(columns=['DX'])"
      ],
      "execution_count": null,
      "outputs": []
    },
    {
      "cell_type": "code",
      "metadata": {
        "id": "kGZHMNVWUk1Y"
      },
      "source": [
        "ip.shape"
      ],
      "execution_count": null,
      "outputs": []
    },
    {
      "cell_type": "code",
      "metadata": {
        "id": "Tv1-v6HlUosH"
      },
      "source": [
        "ip"
      ],
      "execution_count": null,
      "outputs": []
    },
    {
      "cell_type": "code",
      "metadata": {
        "id": "ZYNjdm2-UvGY"
      },
      "source": [
        "op=raw_data['DX']"
      ],
      "execution_count": null,
      "outputs": []
    },
    {
      "cell_type": "code",
      "metadata": {
        "id": "tAYDiVADUw6c"
      },
      "source": [
        "op.shape"
      ],
      "execution_count": null,
      "outputs": []
    },
    {
      "cell_type": "code",
      "metadata": {
        "id": "X9cA-lqJUzA1"
      },
      "source": [
        "op"
      ],
      "execution_count": null,
      "outputs": []
    },
    {
      "cell_type": "markdown",
      "metadata": {
        "id": "PNFyDRstU03B"
      },
      "source": [
        "WHEN WE SPLIT TRAIN AND TEST DATA THERE IS A CHANCE OF CLASS IMBALANCE AS DX:2 APPEARS IN LESS SAMPLES\n",
        "\n",
        "SO y_train or y_test MIGHT NOT HAVE DX:2\n",
        "\n",
        "SO WE INCREASE THE SAMPLES USING SMOTE\n",
        "\n",
        "WHEN USING SMOTE k_neighbours is set to 1 as DX:2 has only 2 samples, so k_neighbour can take a value < 2\n"
      ]
    },
    {
      "cell_type": "code",
      "metadata": {
        "id": "eZiUdNYqVZji"
      },
      "source": [
        "from imblearn.over_sampling import SMOTE\n",
        "sm = SMOTE(k_neighbors=1,random_state=100)\n",
        "#ip,op=sm.fit_sample(ip,op.ravel())\n",
        "#sm.fit(x_test,y_test)\n",
        "ip,op=sm.fit_resample(ip,op.ravel())"
      ],
      "execution_count": null,
      "outputs": []
    },
    {
      "cell_type": "code",
      "metadata": {
        "id": "EDwny4EvV-uP"
      },
      "source": [
        "ip.shape,op.shape"
      ],
      "execution_count": null,
      "outputs": []
    },
    {
      "cell_type": "markdown",
      "metadata": {
        "id": "DyaJXzL2WB5Q"
      },
      "source": [
        "NOTE ABOVE THE NUMBER OF SAMPLES IS INCREASED FROM 171 TO 376"
      ]
    },
    {
      "cell_type": "markdown",
      "metadata": {
        "id": "MrBgCCdSV2q0"
      },
      "source": [
        "SPLIT TEST AND TRAIN"
      ]
    },
    {
      "cell_type": "code",
      "metadata": {
        "id": "XN84jJsEV5cB"
      },
      "source": [
        "from sklearn.model_selection import train_test_split\n",
        "x_train,x_test,y_train,y_test=train_test_split(ip,op,test_size=0.25, random_state=2)\n",
        "one=x_train\n",
        "two=x_test\n",
        "three=y_train\n",
        "four=y_test"
      ],
      "execution_count": null,
      "outputs": []
    },
    {
      "cell_type": "code",
      "metadata": {
        "id": "4FMerXkRWOUA"
      },
      "source": [
        "l=np.unique(y_train)\n",
        "l"
      ],
      "execution_count": null,
      "outputs": []
    },
    {
      "cell_type": "code",
      "metadata": {
        "id": "6Z1JCeqcWRXn"
      },
      "source": [
        "ll=np.unique(y_test)\n",
        "ll"
      ],
      "execution_count": null,
      "outputs": []
    },
    {
      "cell_type": "code",
      "metadata": {
        "id": "DyLSTxG9WXzs"
      },
      "source": [
        "x_train.shape,y_train.shape,x_test.shape,y_test.shape"
      ],
      "execution_count": null,
      "outputs": []
    },
    {
      "cell_type": "markdown",
      "metadata": {
        "id": "3PQkzUUNWhB2"
      },
      "source": [
        "APPLYING THE MODELS"
      ]
    },
    {
      "cell_type": "markdown",
      "metadata": {
        "id": "BXeQvXmDWj0K"
      },
      "source": [
        "APPLY LOGISTIC REGRESSION"
      ]
    },
    {
      "cell_type": "code",
      "metadata": {
        "id": "tyJqfismWmiZ"
      },
      "source": [
        "from sklearn.linear_model import LogisticRegression\n",
        "from sklearn.model_selection import GridSearchCV\n",
        "from sklearn.model_selection import StratifiedKFold"
      ],
      "execution_count": null,
      "outputs": []
    },
    {
      "cell_type": "code",
      "metadata": {
        "id": "Y0CizRGeW8Yn"
      },
      "source": [
        "fold=StratifiedKFold(n_splits=5,random_state=1,shuffle=True)\n",
        "fold.get_n_splits(x_train,y_train)"
      ],
      "execution_count": null,
      "outputs": []
    },
    {
      "cell_type": "code",
      "metadata": {
        "id": "wMKIMNbBXGZp"
      },
      "source": [
        "val=list(np.arange(0.001,1,0.1))"
      ],
      "execution_count": null,
      "outputs": []
    },
    {
      "cell_type": "code",
      "metadata": {
        "id": "k_ToTSCQXS83"
      },
      "source": [
        "parameters={\"solver\":(\"newton-cg\",\"liblinear\"),\"C\":val}"
      ],
      "execution_count": null,
      "outputs": []
    },
    {
      "cell_type": "code",
      "metadata": {
        "id": "o-XUaUWZXm-o"
      },
      "source": [
        "model=LogisticRegression(penalty='l2',n_jobs=-2,max_iter=1000)\n",
        "log_res=GridSearchCV(model,parameters,n_jobs=-2,cv=fold)"
      ],
      "execution_count": null,
      "outputs": []
    },
    {
      "cell_type": "code",
      "metadata": {
        "id": "6houbWnKX00Q"
      },
      "source": [
        "log_res.fit(x_train,y_train)"
      ],
      "execution_count": null,
      "outputs": []
    },
    {
      "cell_type": "code",
      "metadata": {
        "id": "Bpix5wYXYAX7"
      },
      "source": [
        "print(log_res.best_params_)"
      ],
      "execution_count": null,
      "outputs": []
    },
    {
      "cell_type": "code",
      "metadata": {
        "id": "VWGdLiVBYDRo"
      },
      "source": [
        "y_pred_log_res=log_res.predict(x_test)\n",
        "from sklearn.metrics import classification_report,accuracy_score\n",
        "print(classification_report(y_test,y_pred_log_res))\n",
        "ac=accuracy_score(y_test,y_pred_log_res)\n",
        "print(ac*100)"
      ],
      "execution_count": null,
      "outputs": []
    },
    {
      "cell_type": "markdown",
      "metadata": {
        "id": "jGj793qCYW1Q"
      },
      "source": [
        "APPLY KNN"
      ]
    },
    {
      "cell_type": "code",
      "metadata": {
        "id": "kIEJqsuBYalp"
      },
      "source": [
        "from sklearn.neighbors import KNeighborsClassifier\n",
        "#from sklearn.metrics import fbeta_score,make_scorer\n",
        "#fscorer=make_scorer(fbeta_score,beta=1)\n",
        "params={'n_neighbors':range(3,10)}\n",
        "knn=KNeighborsClassifier(algorithm='brute')\n",
        "knn_grid=GridSearchCV(knn,params,cv=fold,n_jobs=-2)\n",
        "knn_grid.fit(x_train,y_train)"
      ],
      "execution_count": null,
      "outputs": []
    },
    {
      "cell_type": "code",
      "metadata": {
        "id": "8_mLcP3LclEA"
      },
      "source": [
        "print(knn_grid.best_params_)"
      ],
      "execution_count": null,
      "outputs": []
    },
    {
      "cell_type": "code",
      "metadata": {
        "id": "Ac-bvi6ac2_m"
      },
      "source": [
        "y_pred_knn_grid=knn_grid.predict(x_test)\n",
        "from sklearn.metrics import classification_report,accuracy_score\n",
        "print(classification_report(y_test,y_pred_knn_grid))\n",
        "ac=accuracy_score(y_test,y_pred_knn_grid)\n",
        "print(ac*100)"
      ],
      "execution_count": null,
      "outputs": []
    },
    {
      "cell_type": "markdown",
      "metadata": {
        "id": "4EvJ7LLzdBZv"
      },
      "source": [
        "APPLY BERNOULLI/GUASSIAN NAIVE BAYES"
      ]
    },
    {
      "cell_type": "code",
      "metadata": {
        "id": "6U_xzlJjdEhX"
      },
      "source": [
        "from sklearn.naive_bayes import BernoulliNB\n",
        "NB_Comp=BernoulliNB()\n",
        "NB_Comp.fit(x_train,y_train)\n",
        "y_pred_NBComp=NB_Comp.predict(x_test)\n",
        "from sklearn.metrics import classification_report,accuracy_score\n",
        "print(classification_report(y_test,y_pred_NBComp))\n",
        "ac=accuracy_score(y_test,y_pred_NBComp)\n",
        "print(ac*100)"
      ],
      "execution_count": null,
      "outputs": []
    },
    {
      "cell_type": "code",
      "metadata": {
        "id": "6OsrUmaEefDh"
      },
      "source": [
        "from sklearn.naive_bayes import GaussianNB\n",
        "NB_Comp=GaussianNB()\n",
        "NB_Comp.fit(x_train,y_train)\n",
        "y_pred_NBComp=NB_Comp.predict(x_test)\n",
        "from sklearn.metrics import classification_report,accuracy_score\n",
        "print(classification_report(y_test,y_pred_NBComp))\n",
        "ac=accuracy_score(y_test,y_pred_NBComp)\n",
        "print(ac*100)"
      ],
      "execution_count": null,
      "outputs": []
    },
    {
      "cell_type": "markdown",
      "metadata": {
        "id": "1nGPhSbae6c_"
      },
      "source": [
        "APPLY DECISION TREE MODEL"
      ]
    },
    {
      "cell_type": "code",
      "metadata": {
        "id": "2atTkusue9Ia"
      },
      "source": [
        "from sklearn.tree import DecisionTreeClassifier\n",
        "dtree=DecisionTreeClassifier(criterion='gini')\n",
        "dtree.fit(x_train,y_train)\n",
        "y_pred_dt=dtree.predict(x_test)\n",
        "from sklearn.metrics import classification_report,accuracy_score\n",
        "print(classification_report(y_test,y_pred_dt))\n",
        "ac=accuracy_score(y_test,y_pred_dt)\n",
        "print(ac*100)"
      ],
      "execution_count": null,
      "outputs": []
    },
    {
      "cell_type": "code",
      "metadata": {
        "id": "LoSBlw9Yfe5T"
      },
      "source": [
        "path=dtree.cost_complexity_pruning_path(x_train,y_train)"
      ],
      "execution_count": null,
      "outputs": []
    },
    {
      "cell_type": "code",
      "metadata": {
        "id": "iZU4Lesufq_V"
      },
      "source": [
        "alpha=path.ccp_alphas\n",
        "print(alpha)"
      ],
      "execution_count": null,
      "outputs": []
    },
    {
      "cell_type": "code",
      "metadata": {
        "id": "oW4ONehpfwzD"
      },
      "source": [
        "impurities=path.impurities"
      ],
      "execution_count": null,
      "outputs": []
    },
    {
      "cell_type": "code",
      "metadata": {
        "id": "ToG1n200f8le"
      },
      "source": [
        "new_trees=[]\n",
        "i=0\n",
        "for a in alpha:\n",
        "  new_tree=DecisionTreeClassifier(criterion='gini',ccp_alpha=a)\n",
        "  new_tree.fit(x_train,y_train)\n",
        "  new_trees.append(new_tree)\n",
        "  i=i+1\n"
      ],
      "execution_count": null,
      "outputs": []
    },
    {
      "cell_type": "code",
      "metadata": {
        "id": "cYFVESnff_sC"
      },
      "source": [
        "test_scores=[new_tree.score(x_test,y_test) for new_tree in new_trees]\n",
        "print(test_scores)\n",
        "print('max f1 test score={}'.format(max(test_scores)))\n",
        "print('position of max test scores{}'.format(np.argmax(test_scores)))"
      ],
      "execution_count": null,
      "outputs": []
    },
    {
      "cell_type": "code",
      "metadata": {
        "id": "I61CL5CJgLG_"
      },
      "source": [
        "from sklearn.tree import DecisionTreeClassifier\n",
        "prunedtree=DecisionTreeClassifier(criterion='gini',ccp_alpha=alpha[np.argmax(test_scores)])\n",
        "prunedtree.fit(x_train,y_train)\n",
        "new_y_pred_train=prunedtree.predict(x_train)\n",
        "new_y_pred_test=prunedtree.predict(x_test)"
      ],
      "execution_count": null,
      "outputs": []
    },
    {
      "cell_type": "code",
      "metadata": {
        "id": "jY8hSVa0gQVC"
      },
      "source": [
        "from sklearn.metrics import classification_report,accuracy_score\n",
        "print(classification_report(y_test,new_y_pred_test))\n",
        "ac=accuracy_score(y_test,new_y_pred_test)\n",
        "print(ac*100)"
      ],
      "execution_count": null,
      "outputs": []
    },
    {
      "cell_type": "markdown",
      "metadata": {
        "id": "-7ouDuyTGcvF"
      },
      "source": [
        "APPLY SVM"
      ]
    },
    {
      "cell_type": "code",
      "metadata": {
        "id": "RiEZmG4eGewR"
      },
      "source": [
        "from sklearn.svm import SVC\n",
        "svc = SVC(C=1.0, random_state=1, kernel='linear')\n",
        "svc.fit(x_train, y_train)\n",
        "y_predict = svc.predict(x_test)\n"
      ],
      "execution_count": null,
      "outputs": []
    },
    {
      "cell_type": "code",
      "metadata": {
        "id": "W85xdmaqHp0K"
      },
      "source": [
        "from sklearn.metrics import classification_report,accuracy_score\n",
        "print(classification_report(y_test,y_predict))\n",
        "ac=accuracy_score(y_test,y_predict)\n",
        "print(ac*100)"
      ],
      "execution_count": null,
      "outputs": []
    },
    {
      "cell_type": "markdown",
      "metadata": {
        "id": "8EQJbGK4gdtW"
      },
      "source": [
        "TO IMPROVE ACCURACY WE COMBINE MODELS AND DO ENSEMBLING"
      ]
    },
    {
      "cell_type": "markdown",
      "metadata": {
        "id": "gFwR-KSf4t4_"
      },
      "source": [
        "APPLY RANDOM FOREST"
      ]
    },
    {
      "cell_type": "code",
      "metadata": {
        "id": "SH7pDOwy5NyT"
      },
      "source": [
        "from sklearn.ensemble import RandomForestClassifier\n",
        "\n",
        "rf = RandomForestClassifier(n_estimators=1000)\n",
        "rf.fit(x_train, y_train)"
      ],
      "execution_count": null,
      "outputs": []
    },
    {
      "cell_type": "code",
      "metadata": {
        "id": "e89_txSb5P0J"
      },
      "source": [
        "y_pred_rf= rf.predict(x_test)\n",
        "\n",
        "from sklearn.metrics import classification_report\n",
        "print(classification_report(y_test, y_pred_rf))"
      ],
      "execution_count": null,
      "outputs": []
    },
    {
      "cell_type": "markdown",
      "metadata": {
        "id": "vs-v6ZZo6WE1"
      },
      "source": [
        "APPLY LOGISTIC REGRESSION WITH RANDOM FOREST"
      ]
    },
    {
      "cell_type": "code",
      "metadata": {
        "id": "xuB3Kb3C6c18"
      },
      "source": [
        "from sklearn.preprocessing import OneHotEncoder\n",
        "# It is important to train the ensemble of trees on a different subset of the training \n",
        "#data than the linear regression model to avoid overfitting, in particular \n",
        "#if the total number of leaves is similar to the number of training samples\n",
        "x_train, X_train_lr, ytrain, y_train_lr = train_test_split(x_train, y_train, test_size=0.60, shuffle = True)\n",
        "\n",
        "rf = RandomForestClassifier(n_estimators=1000)\n",
        "#train Random forest on a set of samples\n",
        "rf.fit(x_train, ytrain)\n",
        "\n",
        "#one hot encoder of the leaves\n",
        "rf_enc = OneHotEncoder()\n",
        "\n",
        "#for these leaves of RF, fit the one hot encoder\n",
        "rf_enc.fit(rf.apply(x_train))"
      ],
      "execution_count": null,
      "outputs": []
    },
    {
      "cell_type": "code",
      "metadata": {
        "id": "Uc1Fdbnb611Q"
      },
      "source": [
        "f = rf_enc.transform(rf.apply(X_train_lr))\n",
        "f.shape"
      ],
      "execution_count": null,
      "outputs": []
    },
    {
      "cell_type": "code",
      "metadata": {
        "id": "2dBgRnYZ68mU"
      },
      "source": [
        "fold = StratifiedKFold(n_splits=5, random_state=1, shuffle = True)\n",
        "fold.get_n_splits(X_train_lr, y_train_lr)\n",
        "\n",
        "parameters = {'solver':('liblinear', 'sag'), 'C':[0.001]}\n",
        "\n",
        "model = LogisticRegression(penalty='l2', n_jobs = -2, max_iter=1000)\n",
        "rf_lr = GridSearchCV(model, parameters, n_jobs= -2, cv=fold)\n",
        "\n",
        "rf_lr.fit(rf_enc.transform(rf.apply(X_train_lr)), y_train_lr)\n",
        "\n",
        "print(rf_lr.best_params_)"
      ],
      "execution_count": null,
      "outputs": []
    },
    {
      "cell_type": "code",
      "metadata": {
        "id": "tGi3WFhS7y_5"
      },
      "source": [
        "y_pred_rf= rf_lr.predict(rf_enc.transform(rf.apply(x_test)))\n",
        "\n",
        "from sklearn.metrics import classification_report\n",
        "print(classification_report(y_test, y_pred_rf))"
      ],
      "execution_count": null,
      "outputs": []
    },
    {
      "cell_type": "markdown",
      "metadata": {
        "id": "EzHIK5exC7nx"
      },
      "source": [
        "APPLY RANDOM FOREST ON KNN"
      ]
    },
    {
      "cell_type": "code",
      "metadata": {
        "id": "RlOD5Z6gDApI"
      },
      "source": [
        "from sklearn.neighbors import KNeighborsClassifier\n",
        "knnmodel=KNeighborsClassifier(algorithm='brute')\n",
        "params={'n_neighbors':range(3,10)}\n",
        "knn_grid=GridSearchCV(knnmodel,params,cv=fold,n_jobs=-2)\n",
        "knn_grid.fit(rf_enc.transform(rf.apply(X_train_lr)), y_train_lr)\n",
        "print(knn_grid.best_params_)"
      ],
      "execution_count": null,
      "outputs": []
    },
    {
      "cell_type": "code",
      "metadata": {
        "id": "_RYQjCsmEWy5"
      },
      "source": [
        "y_pred_knn= knn_grid.predict(rf_enc.transform(rf.apply(x_test)))\n",
        "\n",
        "from sklearn.metrics import classification_report\n",
        "print(classification_report(y_test, y_pred_knn))"
      ],
      "execution_count": null,
      "outputs": []
    },
    {
      "cell_type": "markdown",
      "metadata": {
        "id": "KghL8UkqFGLr"
      },
      "source": [
        "APPLY NEURAL NETWORK"
      ]
    },
    {
      "cell_type": "code",
      "metadata": {
        "id": "h5x4jA0hFKXt"
      },
      "source": [
        "from keras.models import Sequential\n",
        "from keras.layers import Dense\n",
        "from tensorflow.keras.optimizers import SGD, Adam, Adadelta, RMSprop, Adamax, Adagrad, Nadam\n",
        "import keras.backend as K"
      ],
      "execution_count": null,
      "outputs": []
    },
    {
      "cell_type": "code",
      "metadata": {
        "id": "V0UJMf_UiQhb"
      },
      "source": [
        "model = Sequential()\n",
        "model.add(Dense(30, input_shape = (14,), activation = \"relu\"))\n",
        "model.add(Dense(10, activation = \"relu\"))\n",
        "model.add(Dense(4, activation = \"softmax\"))\n",
        "model.compile(optimizer='Nadam',   metrics = [\"accuracy\"], loss='categorical_crossentropy')\n",
        "model.summary()"
      ],
      "execution_count": null,
      "outputs": []
    },
    {
      "cell_type": "code",
      "metadata": {
        "id": "PHjgJSaUw9cG"
      },
      "source": [
        "from keras.utils.np_utils import to_categorical\n",
        "y_cat = to_categorical(op)\n",
        "model.fit(x=ip, y=y_cat, verbose=1, epochs=200)"
      ],
      "execution_count": null,
      "outputs": []
    },
    {
      "cell_type": "code",
      "metadata": {
        "id": "t9yALEze6nex"
      },
      "source": [
        "from sklearn.metrics import confusion_matrix\n",
        "y_pred = model.predict(two)\n",
        "y_test_class = np.argmax(y_pred,axis=1)\n",
        "l=[]\n",
        "for i in range(0,94):\n",
        "  l.append(int(four[i]))\n"
      ],
      "execution_count": null,
      "outputs": []
    },
    {
      "cell_type": "code",
      "metadata": {
        "id": "ossATe1qBerf"
      },
      "source": [
        "from sklearn.metrics import classification_report\n",
        "print(classification_report(y_test_class, l))"
      ],
      "execution_count": null,
      "outputs": []
    }
  ]
}