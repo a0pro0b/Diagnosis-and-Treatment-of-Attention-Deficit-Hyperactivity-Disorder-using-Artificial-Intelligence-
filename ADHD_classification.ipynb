{
  "nbformat": 4,
  "nbformat_minor": 0,
  "metadata": {
    "colab": {
      "name": "ADHD_classification.ipynb",
      "provenance": [],
      "include_colab_link": true
    },
    "kernelspec": {
      "name": "python3",
      "display_name": "Python 3"
    },
    "language_info": {
      "name": "python"
    }
  },
  "cells": [
    {
      "cell_type": "markdown",
      "metadata": {
        "id": "view-in-github",
        "colab_type": "text"
      },
      "source": [
        "<a href=\"https://colab.research.google.com/github/a0pro0b/Diagnosis-and-Treatment-of-Attention-Deficit-Hyperactivity-Disorder-using-Artificial-Intelligence-/blob/main/ADHD_classification.ipynb\" target=\"_parent\"><img src=\"https://colab.research.google.com/assets/colab-badge.svg\" alt=\"Open In Colab\"/></a>"
      ]
    },
    {
      "cell_type": "code",
      "metadata": {
        "colab": {
          "base_uri": "https://localhost:8080/"
        },
        "id": "6WMZ79zL5Eve",
        "outputId": "540c5778-02a4-4bf1-e7f5-9411570c7b32"
      },
      "source": [
        "from google.colab import drive\n",
        "drive.mount('/gdrive')"
      ],
      "execution_count": null,
      "outputs": [
        {
          "output_type": "stream",
          "text": [
            "Drive already mounted at /gdrive; to attempt to forcibly remount, call drive.mount(\"/gdrive\", force_remount=True).\n"
          ],
          "name": "stdout"
        }
      ]
    },
    {
      "cell_type": "code",
      "metadata": {
        "id": "lPSJWOqx5VkX"
      },
      "source": [
        "import pandas as pd\n",
        "import numpy as np\n",
        "import matplotlib.pyplot as plt\n",
        "%matplotlib inline"
      ],
      "execution_count": null,
      "outputs": []
    },
    {
      "cell_type": "markdown",
      "metadata": {
        "id": "onASiI6n5NjM"
      },
      "source": [
        "allSubs_testSet_phenotypic_dx.csv"
      ]
    },
    {
      "cell_type": "code",
      "metadata": {
        "id": "p01XEK7l59X3"
      },
      "source": [
        "path='/gdrive/My Drive/ML/mywork/'"
      ],
      "execution_count": null,
      "outputs": []
    },
    {
      "cell_type": "code",
      "metadata": {
        "colab": {
          "base_uri": "https://localhost:8080/",
          "height": 240
        },
        "id": "NfDrE5Al6CEI",
        "outputId": "0852fe72-0604-4ddd-b258-d42aefdce1c2"
      },
      "source": [
        "raw_data=pd.read_csv(path+'allSubs_testSet_phenotypic_dx.csv')\n",
        "raw_data.head(5)"
      ],
      "execution_count": null,
      "outputs": [
        {
          "output_type": "execute_result",
          "data": {
            "text/html": [
              "<div>\n",
              "<style scoped>\n",
              "    .dataframe tbody tr th:only-of-type {\n",
              "        vertical-align: middle;\n",
              "    }\n",
              "\n",
              "    .dataframe tbody tr th {\n",
              "        vertical-align: top;\n",
              "    }\n",
              "\n",
              "    .dataframe thead th {\n",
              "        text-align: right;\n",
              "    }\n",
              "</style>\n",
              "<table border=\"1\" class=\"dataframe\">\n",
              "  <thead>\n",
              "    <tr style=\"text-align: right;\">\n",
              "      <th></th>\n",
              "      <th>Disclaimer</th>\n",
              "      <th>ID</th>\n",
              "      <th>Site</th>\n",
              "      <th>Gender</th>\n",
              "      <th>Age</th>\n",
              "      <th>Handedness</th>\n",
              "      <th>DX</th>\n",
              "      <th>Secondary Dx</th>\n",
              "      <th>ADHD Measure</th>\n",
              "      <th>ADHD Index</th>\n",
              "      <th>Inattentive</th>\n",
              "      <th>Hyper/Impulsive</th>\n",
              "      <th>Med Status</th>\n",
              "      <th>IQ Measure</th>\n",
              "      <th>Verbal IQ</th>\n",
              "      <th>Performance IQ</th>\n",
              "      <th>Full2 IQ</th>\n",
              "      <th>Full4 IQ</th>\n",
              "      <th>QC_Rest_1</th>\n",
              "      <th>QC_Rest_2</th>\n",
              "      <th>QC_Rest_3</th>\n",
              "      <th>QC_Rest_4</th>\n",
              "      <th>QC_Anatomical_1</th>\n",
              "      <th>QC_Anatomical_2</th>\n",
              "    </tr>\n",
              "  </thead>\n",
              "  <tbody>\n",
              "    <tr>\n",
              "      <th>0</th>\n",
              "      <td>NaN</td>\n",
              "      <td>1038415</td>\n",
              "      <td>1</td>\n",
              "      <td>1</td>\n",
              "      <td>14.92</td>\n",
              "      <td>1.0</td>\n",
              "      <td>3</td>\n",
              "      <td>ODD</td>\n",
              "      <td>1</td>\n",
              "      <td>52</td>\n",
              "      <td>34</td>\n",
              "      <td>18</td>\n",
              "      <td>1</td>\n",
              "      <td>3.0</td>\n",
              "      <td>109.0</td>\n",
              "      <td>103.0</td>\n",
              "      <td>-999.0</td>\n",
              "      <td>107.0</td>\n",
              "      <td>1</td>\n",
              "      <td>NaN</td>\n",
              "      <td>NaN</td>\n",
              "      <td>NaN</td>\n",
              "      <td>1</td>\n",
              "      <td>NaN</td>\n",
              "    </tr>\n",
              "    <tr>\n",
              "      <th>1</th>\n",
              "      <td>NaN</td>\n",
              "      <td>1201251</td>\n",
              "      <td>1</td>\n",
              "      <td>1</td>\n",
              "      <td>12.33</td>\n",
              "      <td>1.0</td>\n",
              "      <td>3</td>\n",
              "      <td>NaN</td>\n",
              "      <td>1</td>\n",
              "      <td>49</td>\n",
              "      <td>28</td>\n",
              "      <td>21</td>\n",
              "      <td>2</td>\n",
              "      <td>3.0</td>\n",
              "      <td>115.0</td>\n",
              "      <td>103.0</td>\n",
              "      <td>-999.0</td>\n",
              "      <td>110.0</td>\n",
              "      <td>1</td>\n",
              "      <td>NaN</td>\n",
              "      <td>NaN</td>\n",
              "      <td>NaN</td>\n",
              "      <td>1</td>\n",
              "      <td>NaN</td>\n",
              "    </tr>\n",
              "    <tr>\n",
              "      <th>2</th>\n",
              "      <td>NaN</td>\n",
              "      <td>1245758</td>\n",
              "      <td>1</td>\n",
              "      <td>0</td>\n",
              "      <td>8.58</td>\n",
              "      <td>1.0</td>\n",
              "      <td>0</td>\n",
              "      <td>NaN</td>\n",
              "      <td>1</td>\n",
              "      <td>35</td>\n",
              "      <td>20</td>\n",
              "      <td>15</td>\n",
              "      <td>1</td>\n",
              "      <td>3.0</td>\n",
              "      <td>121.0</td>\n",
              "      <td>88.0</td>\n",
              "      <td>-999.0</td>\n",
              "      <td>106.0</td>\n",
              "      <td>1</td>\n",
              "      <td>NaN</td>\n",
              "      <td>NaN</td>\n",
              "      <td>NaN</td>\n",
              "      <td>1</td>\n",
              "      <td>NaN</td>\n",
              "    </tr>\n",
              "    <tr>\n",
              "      <th>3</th>\n",
              "      <td>NaN</td>\n",
              "      <td>1253411</td>\n",
              "      <td>1</td>\n",
              "      <td>1</td>\n",
              "      <td>8.08</td>\n",
              "      <td>1.0</td>\n",
              "      <td>0</td>\n",
              "      <td>NaN</td>\n",
              "      <td>1</td>\n",
              "      <td>35</td>\n",
              "      <td>19</td>\n",
              "      <td>16</td>\n",
              "      <td>1</td>\n",
              "      <td>3.0</td>\n",
              "      <td>119.0</td>\n",
              "      <td>106.0</td>\n",
              "      <td>-999.0</td>\n",
              "      <td>114.0</td>\n",
              "      <td>1</td>\n",
              "      <td>NaN</td>\n",
              "      <td>NaN</td>\n",
              "      <td>NaN</td>\n",
              "      <td>1</td>\n",
              "      <td>NaN</td>\n",
              "    </tr>\n",
              "    <tr>\n",
              "      <th>4</th>\n",
              "      <td>NaN</td>\n",
              "      <td>1419103</td>\n",
              "      <td>1</td>\n",
              "      <td>0</td>\n",
              "      <td>9.92</td>\n",
              "      <td>1.0</td>\n",
              "      <td>0</td>\n",
              "      <td>NaN</td>\n",
              "      <td>1</td>\n",
              "      <td>41</td>\n",
              "      <td>22</td>\n",
              "      <td>19</td>\n",
              "      <td>1</td>\n",
              "      <td>3.0</td>\n",
              "      <td>124.0</td>\n",
              "      <td>76.0</td>\n",
              "      <td>-999.0</td>\n",
              "      <td>102.0</td>\n",
              "      <td>1</td>\n",
              "      <td>NaN</td>\n",
              "      <td>NaN</td>\n",
              "      <td>NaN</td>\n",
              "      <td>1</td>\n",
              "      <td>NaN</td>\n",
              "    </tr>\n",
              "  </tbody>\n",
              "</table>\n",
              "</div>"
            ],
            "text/plain": [
              "  Disclaimer       ID  Site  ...  QC_Rest_4  QC_Anatomical_1  QC_Anatomical_2\n",
              "0        NaN  1038415     1  ...        NaN                1              NaN\n",
              "1        NaN  1201251     1  ...        NaN                1              NaN\n",
              "2        NaN  1245758     1  ...        NaN                1              NaN\n",
              "3        NaN  1253411     1  ...        NaN                1              NaN\n",
              "4        NaN  1419103     1  ...        NaN                1              NaN\n",
              "\n",
              "[5 rows x 24 columns]"
            ]
          },
          "metadata": {
            "tags": []
          },
          "execution_count": 385
        }
      ]
    },
    {
      "cell_type": "markdown",
      "metadata": {
        "id": "vVeksPQq6Nuo"
      },
      "source": [
        "Preprocessing"
      ]
    },
    {
      "cell_type": "markdown",
      "metadata": {
        "id": "T24OdXuALdJa"
      },
      "source": [
        "Handedness-ADHD patients tend to be left handed or mixed handed \n",
        "DX-output label (any of the three types of adhd and non adhd)\n",
        "\n",
        "\n"
      ]
    },
    {
      "cell_type": "markdown",
      "metadata": {
        "id": "-W_0b8jKpbRZ"
      },
      "source": [
        "Removing non contributing cols"
      ]
    },
    {
      "cell_type": "code",
      "metadata": {
        "id": "H7KNf6iE6T3s"
      },
      "source": [
        "raw_data=raw_data.drop(columns=['Disclaimer','ID','Site','Secondary Dx '])"
      ],
      "execution_count": null,
      "outputs": []
    },
    {
      "cell_type": "code",
      "metadata": {
        "colab": {
          "base_uri": "https://localhost:8080/",
          "height": 454
        },
        "id": "aYcbwOCOugkc",
        "outputId": "d7afcb96-9c63-4fd9-fd44-913b4de5e522"
      },
      "source": [
        "raw_data"
      ],
      "execution_count": null,
      "outputs": [
        {
          "output_type": "execute_result",
          "data": {
            "text/html": [
              "<div>\n",
              "<style scoped>\n",
              "    .dataframe tbody tr th:only-of-type {\n",
              "        vertical-align: middle;\n",
              "    }\n",
              "\n",
              "    .dataframe tbody tr th {\n",
              "        vertical-align: top;\n",
              "    }\n",
              "\n",
              "    .dataframe thead th {\n",
              "        text-align: right;\n",
              "    }\n",
              "</style>\n",
              "<table border=\"1\" class=\"dataframe\">\n",
              "  <thead>\n",
              "    <tr style=\"text-align: right;\">\n",
              "      <th></th>\n",
              "      <th>Gender</th>\n",
              "      <th>Age</th>\n",
              "      <th>Handedness</th>\n",
              "      <th>DX</th>\n",
              "      <th>ADHD Measure</th>\n",
              "      <th>ADHD Index</th>\n",
              "      <th>Inattentive</th>\n",
              "      <th>Hyper/Impulsive</th>\n",
              "      <th>Med Status</th>\n",
              "      <th>IQ Measure</th>\n",
              "      <th>Verbal IQ</th>\n",
              "      <th>Performance IQ</th>\n",
              "      <th>Full2 IQ</th>\n",
              "      <th>Full4 IQ</th>\n",
              "      <th>QC_Rest_1</th>\n",
              "      <th>QC_Rest_2</th>\n",
              "      <th>QC_Rest_3</th>\n",
              "      <th>QC_Rest_4</th>\n",
              "      <th>QC_Anatomical_1</th>\n",
              "      <th>QC_Anatomical_2</th>\n",
              "    </tr>\n",
              "  </thead>\n",
              "  <tbody>\n",
              "    <tr>\n",
              "      <th>0</th>\n",
              "      <td>1</td>\n",
              "      <td>14.92</td>\n",
              "      <td>1.0</td>\n",
              "      <td>3</td>\n",
              "      <td>1</td>\n",
              "      <td>52</td>\n",
              "      <td>34</td>\n",
              "      <td>18</td>\n",
              "      <td>1</td>\n",
              "      <td>3.0</td>\n",
              "      <td>109.0</td>\n",
              "      <td>103.0</td>\n",
              "      <td>-999.0</td>\n",
              "      <td>107.0</td>\n",
              "      <td>1</td>\n",
              "      <td>NaN</td>\n",
              "      <td>NaN</td>\n",
              "      <td>NaN</td>\n",
              "      <td>1</td>\n",
              "      <td>NaN</td>\n",
              "    </tr>\n",
              "    <tr>\n",
              "      <th>1</th>\n",
              "      <td>1</td>\n",
              "      <td>12.33</td>\n",
              "      <td>1.0</td>\n",
              "      <td>3</td>\n",
              "      <td>1</td>\n",
              "      <td>49</td>\n",
              "      <td>28</td>\n",
              "      <td>21</td>\n",
              "      <td>2</td>\n",
              "      <td>3.0</td>\n",
              "      <td>115.0</td>\n",
              "      <td>103.0</td>\n",
              "      <td>-999.0</td>\n",
              "      <td>110.0</td>\n",
              "      <td>1</td>\n",
              "      <td>NaN</td>\n",
              "      <td>NaN</td>\n",
              "      <td>NaN</td>\n",
              "      <td>1</td>\n",
              "      <td>NaN</td>\n",
              "    </tr>\n",
              "    <tr>\n",
              "      <th>2</th>\n",
              "      <td>0</td>\n",
              "      <td>8.58</td>\n",
              "      <td>1.0</td>\n",
              "      <td>0</td>\n",
              "      <td>1</td>\n",
              "      <td>35</td>\n",
              "      <td>20</td>\n",
              "      <td>15</td>\n",
              "      <td>1</td>\n",
              "      <td>3.0</td>\n",
              "      <td>121.0</td>\n",
              "      <td>88.0</td>\n",
              "      <td>-999.0</td>\n",
              "      <td>106.0</td>\n",
              "      <td>1</td>\n",
              "      <td>NaN</td>\n",
              "      <td>NaN</td>\n",
              "      <td>NaN</td>\n",
              "      <td>1</td>\n",
              "      <td>NaN</td>\n",
              "    </tr>\n",
              "    <tr>\n",
              "      <th>3</th>\n",
              "      <td>1</td>\n",
              "      <td>8.08</td>\n",
              "      <td>1.0</td>\n",
              "      <td>0</td>\n",
              "      <td>1</td>\n",
              "      <td>35</td>\n",
              "      <td>19</td>\n",
              "      <td>16</td>\n",
              "      <td>1</td>\n",
              "      <td>3.0</td>\n",
              "      <td>119.0</td>\n",
              "      <td>106.0</td>\n",
              "      <td>-999.0</td>\n",
              "      <td>114.0</td>\n",
              "      <td>1</td>\n",
              "      <td>NaN</td>\n",
              "      <td>NaN</td>\n",
              "      <td>NaN</td>\n",
              "      <td>1</td>\n",
              "      <td>NaN</td>\n",
              "    </tr>\n",
              "    <tr>\n",
              "      <th>4</th>\n",
              "      <td>0</td>\n",
              "      <td>9.92</td>\n",
              "      <td>1.0</td>\n",
              "      <td>0</td>\n",
              "      <td>1</td>\n",
              "      <td>41</td>\n",
              "      <td>22</td>\n",
              "      <td>19</td>\n",
              "      <td>1</td>\n",
              "      <td>3.0</td>\n",
              "      <td>124.0</td>\n",
              "      <td>76.0</td>\n",
              "      <td>-999.0</td>\n",
              "      <td>102.0</td>\n",
              "      <td>1</td>\n",
              "      <td>NaN</td>\n",
              "      <td>NaN</td>\n",
              "      <td>NaN</td>\n",
              "      <td>1</td>\n",
              "      <td>NaN</td>\n",
              "    </tr>\n",
              "    <tr>\n",
              "      <th>...</th>\n",
              "      <td>...</td>\n",
              "      <td>...</td>\n",
              "      <td>...</td>\n",
              "      <td>...</td>\n",
              "      <td>...</td>\n",
              "      <td>...</td>\n",
              "      <td>...</td>\n",
              "      <td>...</td>\n",
              "      <td>...</td>\n",
              "      <td>...</td>\n",
              "      <td>...</td>\n",
              "      <td>...</td>\n",
              "      <td>...</td>\n",
              "      <td>...</td>\n",
              "      <td>...</td>\n",
              "      <td>...</td>\n",
              "      <td>...</td>\n",
              "      <td>...</td>\n",
              "      <td>...</td>\n",
              "      <td>...</td>\n",
              "    </tr>\n",
              "    <tr>\n",
              "      <th>192</th>\n",
              "      <td>1</td>\n",
              "      <td>15.90</td>\n",
              "      <td>1.0</td>\n",
              "      <td>3</td>\n",
              "      <td>NaN</td>\n",
              "      <td>NaN</td>\n",
              "      <td>NaN</td>\n",
              "      <td>NaN</td>\n",
              "      <td>2</td>\n",
              "      <td>2.0</td>\n",
              "      <td>127.0</td>\n",
              "      <td>105.0</td>\n",
              "      <td>NaN</td>\n",
              "      <td>117.0</td>\n",
              "      <td>1</td>\n",
              "      <td>NaN</td>\n",
              "      <td>NaN</td>\n",
              "      <td>NaN</td>\n",
              "      <td>1</td>\n",
              "      <td>NaN</td>\n",
              "    </tr>\n",
              "    <tr>\n",
              "      <th>193</th>\n",
              "      <td>1</td>\n",
              "      <td>13.87</td>\n",
              "      <td>1.0</td>\n",
              "      <td>0</td>\n",
              "      <td>NaN</td>\n",
              "      <td>NaN</td>\n",
              "      <td>NaN</td>\n",
              "      <td>NaN</td>\n",
              "      <td>1</td>\n",
              "      <td>2.0</td>\n",
              "      <td>135.0</td>\n",
              "      <td>119.0</td>\n",
              "      <td>NaN</td>\n",
              "      <td>130.0</td>\n",
              "      <td>1</td>\n",
              "      <td>NaN</td>\n",
              "      <td>NaN</td>\n",
              "      <td>NaN</td>\n",
              "      <td>1</td>\n",
              "      <td>NaN</td>\n",
              "    </tr>\n",
              "    <tr>\n",
              "      <th>194</th>\n",
              "      <td>0</td>\n",
              "      <td>15.04</td>\n",
              "      <td>1.0</td>\n",
              "      <td>3</td>\n",
              "      <td>NaN</td>\n",
              "      <td>NaN</td>\n",
              "      <td>NaN</td>\n",
              "      <td>NaN</td>\n",
              "      <td>2</td>\n",
              "      <td>2.0</td>\n",
              "      <td>95.0</td>\n",
              "      <td>88.0</td>\n",
              "      <td>NaN</td>\n",
              "      <td>90.0</td>\n",
              "      <td>1</td>\n",
              "      <td>NaN</td>\n",
              "      <td>NaN</td>\n",
              "      <td>NaN</td>\n",
              "      <td>1</td>\n",
              "      <td>NaN</td>\n",
              "    </tr>\n",
              "    <tr>\n",
              "      <th>195</th>\n",
              "      <td>1</td>\n",
              "      <td>13.64</td>\n",
              "      <td>1.0</td>\n",
              "      <td>0</td>\n",
              "      <td>NaN</td>\n",
              "      <td>NaN</td>\n",
              "      <td>NaN</td>\n",
              "      <td>NaN</td>\n",
              "      <td>1</td>\n",
              "      <td>2.0</td>\n",
              "      <td>114.0</td>\n",
              "      <td>109.0</td>\n",
              "      <td>NaN</td>\n",
              "      <td>113.0</td>\n",
              "      <td>1</td>\n",
              "      <td>NaN</td>\n",
              "      <td>NaN</td>\n",
              "      <td>NaN</td>\n",
              "      <td>0</td>\n",
              "      <td>NaN</td>\n",
              "    </tr>\n",
              "    <tr>\n",
              "      <th>196</th>\n",
              "      <td>1</td>\n",
              "      <td>13.72</td>\n",
              "      <td>1.0</td>\n",
              "      <td>3</td>\n",
              "      <td>NaN</td>\n",
              "      <td>NaN</td>\n",
              "      <td>NaN</td>\n",
              "      <td>NaN</td>\n",
              "      <td>2</td>\n",
              "      <td>2.0</td>\n",
              "      <td>103.0</td>\n",
              "      <td>103.0</td>\n",
              "      <td>NaN</td>\n",
              "      <td>104.0</td>\n",
              "      <td>1</td>\n",
              "      <td>NaN</td>\n",
              "      <td>NaN</td>\n",
              "      <td>NaN</td>\n",
              "      <td>1</td>\n",
              "      <td>NaN</td>\n",
              "    </tr>\n",
              "  </tbody>\n",
              "</table>\n",
              "<p>197 rows × 20 columns</p>\n",
              "</div>"
            ],
            "text/plain": [
              "     Gender    Age  Handedness  ... QC_Rest_4 QC_Anatomical_1 QC_Anatomical_2\n",
              "0         1  14.92         1.0  ...       NaN               1             NaN\n",
              "1         1  12.33         1.0  ...       NaN               1             NaN\n",
              "2         0   8.58         1.0  ...       NaN               1             NaN\n",
              "3         1   8.08         1.0  ...       NaN               1             NaN\n",
              "4         0   9.92         1.0  ...       NaN               1             NaN\n",
              "..      ...    ...         ...  ...       ...             ...             ...\n",
              "192       1  15.90         1.0  ...       NaN               1             NaN\n",
              "193       1  13.87         1.0  ...       NaN               1             NaN\n",
              "194       0  15.04         1.0  ...       NaN               1             NaN\n",
              "195       1  13.64         1.0  ...       NaN               0             NaN\n",
              "196       1  13.72         1.0  ...       NaN               1             NaN\n",
              "\n",
              "[197 rows x 20 columns]"
            ]
          },
          "metadata": {
            "tags": []
          },
          "execution_count": 387
        }
      ]
    },
    {
      "cell_type": "markdown",
      "metadata": {
        "id": "ypUTjDagupRQ"
      },
      "source": [
        "Fill all NAN by 0"
      ]
    },
    {
      "cell_type": "code",
      "metadata": {
        "id": "NW55XQtxu8gn"
      },
      "source": [
        "raw_data=raw_data.fillna(-99999)"
      ],
      "execution_count": null,
      "outputs": []
    },
    {
      "cell_type": "code",
      "metadata": {
        "colab": {
          "base_uri": "https://localhost:8080/",
          "height": 454
        },
        "id": "GM8TihsE0PH0",
        "outputId": "e51bd122-2b1a-4edb-98a2-72f3f7c08047"
      },
      "source": [
        "raw_data"
      ],
      "execution_count": null,
      "outputs": [
        {
          "output_type": "execute_result",
          "data": {
            "text/html": [
              "<div>\n",
              "<style scoped>\n",
              "    .dataframe tbody tr th:only-of-type {\n",
              "        vertical-align: middle;\n",
              "    }\n",
              "\n",
              "    .dataframe tbody tr th {\n",
              "        vertical-align: top;\n",
              "    }\n",
              "\n",
              "    .dataframe thead th {\n",
              "        text-align: right;\n",
              "    }\n",
              "</style>\n",
              "<table border=\"1\" class=\"dataframe\">\n",
              "  <thead>\n",
              "    <tr style=\"text-align: right;\">\n",
              "      <th></th>\n",
              "      <th>Gender</th>\n",
              "      <th>Age</th>\n",
              "      <th>Handedness</th>\n",
              "      <th>DX</th>\n",
              "      <th>ADHD Measure</th>\n",
              "      <th>ADHD Index</th>\n",
              "      <th>Inattentive</th>\n",
              "      <th>Hyper/Impulsive</th>\n",
              "      <th>Med Status</th>\n",
              "      <th>IQ Measure</th>\n",
              "      <th>Verbal IQ</th>\n",
              "      <th>Performance IQ</th>\n",
              "      <th>Full2 IQ</th>\n",
              "      <th>Full4 IQ</th>\n",
              "      <th>QC_Rest_1</th>\n",
              "      <th>QC_Rest_2</th>\n",
              "      <th>QC_Rest_3</th>\n",
              "      <th>QC_Rest_4</th>\n",
              "      <th>QC_Anatomical_1</th>\n",
              "      <th>QC_Anatomical_2</th>\n",
              "    </tr>\n",
              "  </thead>\n",
              "  <tbody>\n",
              "    <tr>\n",
              "      <th>0</th>\n",
              "      <td>1</td>\n",
              "      <td>14.92</td>\n",
              "      <td>1.0</td>\n",
              "      <td>3</td>\n",
              "      <td>1</td>\n",
              "      <td>52</td>\n",
              "      <td>34</td>\n",
              "      <td>18</td>\n",
              "      <td>1</td>\n",
              "      <td>3.0</td>\n",
              "      <td>109.0</td>\n",
              "      <td>103.0</td>\n",
              "      <td>-999.0</td>\n",
              "      <td>107.0</td>\n",
              "      <td>1</td>\n",
              "      <td>-99999.0</td>\n",
              "      <td>-99999.0</td>\n",
              "      <td>-99999.0</td>\n",
              "      <td>1</td>\n",
              "      <td>-99999.0</td>\n",
              "    </tr>\n",
              "    <tr>\n",
              "      <th>1</th>\n",
              "      <td>1</td>\n",
              "      <td>12.33</td>\n",
              "      <td>1.0</td>\n",
              "      <td>3</td>\n",
              "      <td>1</td>\n",
              "      <td>49</td>\n",
              "      <td>28</td>\n",
              "      <td>21</td>\n",
              "      <td>2</td>\n",
              "      <td>3.0</td>\n",
              "      <td>115.0</td>\n",
              "      <td>103.0</td>\n",
              "      <td>-999.0</td>\n",
              "      <td>110.0</td>\n",
              "      <td>1</td>\n",
              "      <td>-99999.0</td>\n",
              "      <td>-99999.0</td>\n",
              "      <td>-99999.0</td>\n",
              "      <td>1</td>\n",
              "      <td>-99999.0</td>\n",
              "    </tr>\n",
              "    <tr>\n",
              "      <th>2</th>\n",
              "      <td>0</td>\n",
              "      <td>8.58</td>\n",
              "      <td>1.0</td>\n",
              "      <td>0</td>\n",
              "      <td>1</td>\n",
              "      <td>35</td>\n",
              "      <td>20</td>\n",
              "      <td>15</td>\n",
              "      <td>1</td>\n",
              "      <td>3.0</td>\n",
              "      <td>121.0</td>\n",
              "      <td>88.0</td>\n",
              "      <td>-999.0</td>\n",
              "      <td>106.0</td>\n",
              "      <td>1</td>\n",
              "      <td>-99999.0</td>\n",
              "      <td>-99999.0</td>\n",
              "      <td>-99999.0</td>\n",
              "      <td>1</td>\n",
              "      <td>-99999.0</td>\n",
              "    </tr>\n",
              "    <tr>\n",
              "      <th>3</th>\n",
              "      <td>1</td>\n",
              "      <td>8.08</td>\n",
              "      <td>1.0</td>\n",
              "      <td>0</td>\n",
              "      <td>1</td>\n",
              "      <td>35</td>\n",
              "      <td>19</td>\n",
              "      <td>16</td>\n",
              "      <td>1</td>\n",
              "      <td>3.0</td>\n",
              "      <td>119.0</td>\n",
              "      <td>106.0</td>\n",
              "      <td>-999.0</td>\n",
              "      <td>114.0</td>\n",
              "      <td>1</td>\n",
              "      <td>-99999.0</td>\n",
              "      <td>-99999.0</td>\n",
              "      <td>-99999.0</td>\n",
              "      <td>1</td>\n",
              "      <td>-99999.0</td>\n",
              "    </tr>\n",
              "    <tr>\n",
              "      <th>4</th>\n",
              "      <td>0</td>\n",
              "      <td>9.92</td>\n",
              "      <td>1.0</td>\n",
              "      <td>0</td>\n",
              "      <td>1</td>\n",
              "      <td>41</td>\n",
              "      <td>22</td>\n",
              "      <td>19</td>\n",
              "      <td>1</td>\n",
              "      <td>3.0</td>\n",
              "      <td>124.0</td>\n",
              "      <td>76.0</td>\n",
              "      <td>-999.0</td>\n",
              "      <td>102.0</td>\n",
              "      <td>1</td>\n",
              "      <td>-99999.0</td>\n",
              "      <td>-99999.0</td>\n",
              "      <td>-99999.0</td>\n",
              "      <td>1</td>\n",
              "      <td>-99999.0</td>\n",
              "    </tr>\n",
              "    <tr>\n",
              "      <th>...</th>\n",
              "      <td>...</td>\n",
              "      <td>...</td>\n",
              "      <td>...</td>\n",
              "      <td>...</td>\n",
              "      <td>...</td>\n",
              "      <td>...</td>\n",
              "      <td>...</td>\n",
              "      <td>...</td>\n",
              "      <td>...</td>\n",
              "      <td>...</td>\n",
              "      <td>...</td>\n",
              "      <td>...</td>\n",
              "      <td>...</td>\n",
              "      <td>...</td>\n",
              "      <td>...</td>\n",
              "      <td>...</td>\n",
              "      <td>...</td>\n",
              "      <td>...</td>\n",
              "      <td>...</td>\n",
              "      <td>...</td>\n",
              "    </tr>\n",
              "    <tr>\n",
              "      <th>192</th>\n",
              "      <td>1</td>\n",
              "      <td>15.90</td>\n",
              "      <td>1.0</td>\n",
              "      <td>3</td>\n",
              "      <td>-99999</td>\n",
              "      <td>-99999</td>\n",
              "      <td>-99999</td>\n",
              "      <td>-99999</td>\n",
              "      <td>2</td>\n",
              "      <td>2.0</td>\n",
              "      <td>127.0</td>\n",
              "      <td>105.0</td>\n",
              "      <td>-99999.0</td>\n",
              "      <td>117.0</td>\n",
              "      <td>1</td>\n",
              "      <td>-99999.0</td>\n",
              "      <td>-99999.0</td>\n",
              "      <td>-99999.0</td>\n",
              "      <td>1</td>\n",
              "      <td>-99999.0</td>\n",
              "    </tr>\n",
              "    <tr>\n",
              "      <th>193</th>\n",
              "      <td>1</td>\n",
              "      <td>13.87</td>\n",
              "      <td>1.0</td>\n",
              "      <td>0</td>\n",
              "      <td>-99999</td>\n",
              "      <td>-99999</td>\n",
              "      <td>-99999</td>\n",
              "      <td>-99999</td>\n",
              "      <td>1</td>\n",
              "      <td>2.0</td>\n",
              "      <td>135.0</td>\n",
              "      <td>119.0</td>\n",
              "      <td>-99999.0</td>\n",
              "      <td>130.0</td>\n",
              "      <td>1</td>\n",
              "      <td>-99999.0</td>\n",
              "      <td>-99999.0</td>\n",
              "      <td>-99999.0</td>\n",
              "      <td>1</td>\n",
              "      <td>-99999.0</td>\n",
              "    </tr>\n",
              "    <tr>\n",
              "      <th>194</th>\n",
              "      <td>0</td>\n",
              "      <td>15.04</td>\n",
              "      <td>1.0</td>\n",
              "      <td>3</td>\n",
              "      <td>-99999</td>\n",
              "      <td>-99999</td>\n",
              "      <td>-99999</td>\n",
              "      <td>-99999</td>\n",
              "      <td>2</td>\n",
              "      <td>2.0</td>\n",
              "      <td>95.0</td>\n",
              "      <td>88.0</td>\n",
              "      <td>-99999.0</td>\n",
              "      <td>90.0</td>\n",
              "      <td>1</td>\n",
              "      <td>-99999.0</td>\n",
              "      <td>-99999.0</td>\n",
              "      <td>-99999.0</td>\n",
              "      <td>1</td>\n",
              "      <td>-99999.0</td>\n",
              "    </tr>\n",
              "    <tr>\n",
              "      <th>195</th>\n",
              "      <td>1</td>\n",
              "      <td>13.64</td>\n",
              "      <td>1.0</td>\n",
              "      <td>0</td>\n",
              "      <td>-99999</td>\n",
              "      <td>-99999</td>\n",
              "      <td>-99999</td>\n",
              "      <td>-99999</td>\n",
              "      <td>1</td>\n",
              "      <td>2.0</td>\n",
              "      <td>114.0</td>\n",
              "      <td>109.0</td>\n",
              "      <td>-99999.0</td>\n",
              "      <td>113.0</td>\n",
              "      <td>1</td>\n",
              "      <td>-99999.0</td>\n",
              "      <td>-99999.0</td>\n",
              "      <td>-99999.0</td>\n",
              "      <td>0</td>\n",
              "      <td>-99999.0</td>\n",
              "    </tr>\n",
              "    <tr>\n",
              "      <th>196</th>\n",
              "      <td>1</td>\n",
              "      <td>13.72</td>\n",
              "      <td>1.0</td>\n",
              "      <td>3</td>\n",
              "      <td>-99999</td>\n",
              "      <td>-99999</td>\n",
              "      <td>-99999</td>\n",
              "      <td>-99999</td>\n",
              "      <td>2</td>\n",
              "      <td>2.0</td>\n",
              "      <td>103.0</td>\n",
              "      <td>103.0</td>\n",
              "      <td>-99999.0</td>\n",
              "      <td>104.0</td>\n",
              "      <td>1</td>\n",
              "      <td>-99999.0</td>\n",
              "      <td>-99999.0</td>\n",
              "      <td>-99999.0</td>\n",
              "      <td>1</td>\n",
              "      <td>-99999.0</td>\n",
              "    </tr>\n",
              "  </tbody>\n",
              "</table>\n",
              "<p>197 rows × 20 columns</p>\n",
              "</div>"
            ],
            "text/plain": [
              "     Gender    Age  Handedness  ... QC_Rest_4 QC_Anatomical_1 QC_Anatomical_2\n",
              "0         1  14.92         1.0  ...  -99999.0               1        -99999.0\n",
              "1         1  12.33         1.0  ...  -99999.0               1        -99999.0\n",
              "2         0   8.58         1.0  ...  -99999.0               1        -99999.0\n",
              "3         1   8.08         1.0  ...  -99999.0               1        -99999.0\n",
              "4         0   9.92         1.0  ...  -99999.0               1        -99999.0\n",
              "..      ...    ...         ...  ...       ...             ...             ...\n",
              "192       1  15.90         1.0  ...  -99999.0               1        -99999.0\n",
              "193       1  13.87         1.0  ...  -99999.0               1        -99999.0\n",
              "194       0  15.04         1.0  ...  -99999.0               1        -99999.0\n",
              "195       1  13.64         1.0  ...  -99999.0               0        -99999.0\n",
              "196       1  13.72         1.0  ...  -99999.0               1        -99999.0\n",
              "\n",
              "[197 rows x 20 columns]"
            ]
          },
          "metadata": {
            "tags": []
          },
          "execution_count": 389
        }
      ]
    },
    {
      "cell_type": "markdown",
      "metadata": {
        "id": "oOE2JOf71F7m"
      },
      "source": [
        "Deleting the pending rows"
      ]
    },
    {
      "cell_type": "code",
      "metadata": {
        "colab": {
          "base_uri": "https://localhost:8080/"
        },
        "id": "2wuzt8i61JYc",
        "outputId": "3a56cc71-2759-4b25-9cbc-d0ca40b6bea5"
      },
      "source": [
        "dropset=raw_data.index[raw_data['DX']==\"pending\"].tolist()\n",
        "dropset,len(dropset)"
      ],
      "execution_count": null,
      "outputs": [
        {
          "output_type": "execute_result",
          "data": {
            "text/plain": [
              "([51,\n",
              "  52,\n",
              "  53,\n",
              "  54,\n",
              "  55,\n",
              "  56,\n",
              "  57,\n",
              "  58,\n",
              "  59,\n",
              "  60,\n",
              "  61,\n",
              "  62,\n",
              "  63,\n",
              "  64,\n",
              "  65,\n",
              "  66,\n",
              "  67,\n",
              "  68,\n",
              "  69,\n",
              "  70,\n",
              "  71,\n",
              "  72,\n",
              "  73,\n",
              "  74,\n",
              "  75,\n",
              "  76],\n",
              " 26)"
            ]
          },
          "metadata": {
            "tags": []
          },
          "execution_count": 390
        }
      ]
    },
    {
      "cell_type": "code",
      "metadata": {
        "id": "PWSdIp-n17Pg"
      },
      "source": [
        "raw_data.drop(raw_data.index[dropset],inplace=True)"
      ],
      "execution_count": null,
      "outputs": []
    },
    {
      "cell_type": "code",
      "metadata": {
        "colab": {
          "base_uri": "https://localhost:8080/",
          "height": 454
        },
        "id": "3faA6V0z2ESL",
        "outputId": "67ffd964-8abc-4de6-9e49-b8d02efdfac3"
      },
      "source": [
        "raw_data"
      ],
      "execution_count": null,
      "outputs": [
        {
          "output_type": "execute_result",
          "data": {
            "text/html": [
              "<div>\n",
              "<style scoped>\n",
              "    .dataframe tbody tr th:only-of-type {\n",
              "        vertical-align: middle;\n",
              "    }\n",
              "\n",
              "    .dataframe tbody tr th {\n",
              "        vertical-align: top;\n",
              "    }\n",
              "\n",
              "    .dataframe thead th {\n",
              "        text-align: right;\n",
              "    }\n",
              "</style>\n",
              "<table border=\"1\" class=\"dataframe\">\n",
              "  <thead>\n",
              "    <tr style=\"text-align: right;\">\n",
              "      <th></th>\n",
              "      <th>Gender</th>\n",
              "      <th>Age</th>\n",
              "      <th>Handedness</th>\n",
              "      <th>DX</th>\n",
              "      <th>ADHD Measure</th>\n",
              "      <th>ADHD Index</th>\n",
              "      <th>Inattentive</th>\n",
              "      <th>Hyper/Impulsive</th>\n",
              "      <th>Med Status</th>\n",
              "      <th>IQ Measure</th>\n",
              "      <th>Verbal IQ</th>\n",
              "      <th>Performance IQ</th>\n",
              "      <th>Full2 IQ</th>\n",
              "      <th>Full4 IQ</th>\n",
              "      <th>QC_Rest_1</th>\n",
              "      <th>QC_Rest_2</th>\n",
              "      <th>QC_Rest_3</th>\n",
              "      <th>QC_Rest_4</th>\n",
              "      <th>QC_Anatomical_1</th>\n",
              "      <th>QC_Anatomical_2</th>\n",
              "    </tr>\n",
              "  </thead>\n",
              "  <tbody>\n",
              "    <tr>\n",
              "      <th>0</th>\n",
              "      <td>1</td>\n",
              "      <td>14.92</td>\n",
              "      <td>1.0</td>\n",
              "      <td>3</td>\n",
              "      <td>1</td>\n",
              "      <td>52</td>\n",
              "      <td>34</td>\n",
              "      <td>18</td>\n",
              "      <td>1</td>\n",
              "      <td>3.0</td>\n",
              "      <td>109.0</td>\n",
              "      <td>103.0</td>\n",
              "      <td>-999.0</td>\n",
              "      <td>107.0</td>\n",
              "      <td>1</td>\n",
              "      <td>-99999.0</td>\n",
              "      <td>-99999.0</td>\n",
              "      <td>-99999.0</td>\n",
              "      <td>1</td>\n",
              "      <td>-99999.0</td>\n",
              "    </tr>\n",
              "    <tr>\n",
              "      <th>1</th>\n",
              "      <td>1</td>\n",
              "      <td>12.33</td>\n",
              "      <td>1.0</td>\n",
              "      <td>3</td>\n",
              "      <td>1</td>\n",
              "      <td>49</td>\n",
              "      <td>28</td>\n",
              "      <td>21</td>\n",
              "      <td>2</td>\n",
              "      <td>3.0</td>\n",
              "      <td>115.0</td>\n",
              "      <td>103.0</td>\n",
              "      <td>-999.0</td>\n",
              "      <td>110.0</td>\n",
              "      <td>1</td>\n",
              "      <td>-99999.0</td>\n",
              "      <td>-99999.0</td>\n",
              "      <td>-99999.0</td>\n",
              "      <td>1</td>\n",
              "      <td>-99999.0</td>\n",
              "    </tr>\n",
              "    <tr>\n",
              "      <th>2</th>\n",
              "      <td>0</td>\n",
              "      <td>8.58</td>\n",
              "      <td>1.0</td>\n",
              "      <td>0</td>\n",
              "      <td>1</td>\n",
              "      <td>35</td>\n",
              "      <td>20</td>\n",
              "      <td>15</td>\n",
              "      <td>1</td>\n",
              "      <td>3.0</td>\n",
              "      <td>121.0</td>\n",
              "      <td>88.0</td>\n",
              "      <td>-999.0</td>\n",
              "      <td>106.0</td>\n",
              "      <td>1</td>\n",
              "      <td>-99999.0</td>\n",
              "      <td>-99999.0</td>\n",
              "      <td>-99999.0</td>\n",
              "      <td>1</td>\n",
              "      <td>-99999.0</td>\n",
              "    </tr>\n",
              "    <tr>\n",
              "      <th>3</th>\n",
              "      <td>1</td>\n",
              "      <td>8.08</td>\n",
              "      <td>1.0</td>\n",
              "      <td>0</td>\n",
              "      <td>1</td>\n",
              "      <td>35</td>\n",
              "      <td>19</td>\n",
              "      <td>16</td>\n",
              "      <td>1</td>\n",
              "      <td>3.0</td>\n",
              "      <td>119.0</td>\n",
              "      <td>106.0</td>\n",
              "      <td>-999.0</td>\n",
              "      <td>114.0</td>\n",
              "      <td>1</td>\n",
              "      <td>-99999.0</td>\n",
              "      <td>-99999.0</td>\n",
              "      <td>-99999.0</td>\n",
              "      <td>1</td>\n",
              "      <td>-99999.0</td>\n",
              "    </tr>\n",
              "    <tr>\n",
              "      <th>4</th>\n",
              "      <td>0</td>\n",
              "      <td>9.92</td>\n",
              "      <td>1.0</td>\n",
              "      <td>0</td>\n",
              "      <td>1</td>\n",
              "      <td>41</td>\n",
              "      <td>22</td>\n",
              "      <td>19</td>\n",
              "      <td>1</td>\n",
              "      <td>3.0</td>\n",
              "      <td>124.0</td>\n",
              "      <td>76.0</td>\n",
              "      <td>-999.0</td>\n",
              "      <td>102.0</td>\n",
              "      <td>1</td>\n",
              "      <td>-99999.0</td>\n",
              "      <td>-99999.0</td>\n",
              "      <td>-99999.0</td>\n",
              "      <td>1</td>\n",
              "      <td>-99999.0</td>\n",
              "    </tr>\n",
              "    <tr>\n",
              "      <th>...</th>\n",
              "      <td>...</td>\n",
              "      <td>...</td>\n",
              "      <td>...</td>\n",
              "      <td>...</td>\n",
              "      <td>...</td>\n",
              "      <td>...</td>\n",
              "      <td>...</td>\n",
              "      <td>...</td>\n",
              "      <td>...</td>\n",
              "      <td>...</td>\n",
              "      <td>...</td>\n",
              "      <td>...</td>\n",
              "      <td>...</td>\n",
              "      <td>...</td>\n",
              "      <td>...</td>\n",
              "      <td>...</td>\n",
              "      <td>...</td>\n",
              "      <td>...</td>\n",
              "      <td>...</td>\n",
              "      <td>...</td>\n",
              "    </tr>\n",
              "    <tr>\n",
              "      <th>192</th>\n",
              "      <td>1</td>\n",
              "      <td>15.90</td>\n",
              "      <td>1.0</td>\n",
              "      <td>3</td>\n",
              "      <td>-99999</td>\n",
              "      <td>-99999</td>\n",
              "      <td>-99999</td>\n",
              "      <td>-99999</td>\n",
              "      <td>2</td>\n",
              "      <td>2.0</td>\n",
              "      <td>127.0</td>\n",
              "      <td>105.0</td>\n",
              "      <td>-99999.0</td>\n",
              "      <td>117.0</td>\n",
              "      <td>1</td>\n",
              "      <td>-99999.0</td>\n",
              "      <td>-99999.0</td>\n",
              "      <td>-99999.0</td>\n",
              "      <td>1</td>\n",
              "      <td>-99999.0</td>\n",
              "    </tr>\n",
              "    <tr>\n",
              "      <th>193</th>\n",
              "      <td>1</td>\n",
              "      <td>13.87</td>\n",
              "      <td>1.0</td>\n",
              "      <td>0</td>\n",
              "      <td>-99999</td>\n",
              "      <td>-99999</td>\n",
              "      <td>-99999</td>\n",
              "      <td>-99999</td>\n",
              "      <td>1</td>\n",
              "      <td>2.0</td>\n",
              "      <td>135.0</td>\n",
              "      <td>119.0</td>\n",
              "      <td>-99999.0</td>\n",
              "      <td>130.0</td>\n",
              "      <td>1</td>\n",
              "      <td>-99999.0</td>\n",
              "      <td>-99999.0</td>\n",
              "      <td>-99999.0</td>\n",
              "      <td>1</td>\n",
              "      <td>-99999.0</td>\n",
              "    </tr>\n",
              "    <tr>\n",
              "      <th>194</th>\n",
              "      <td>0</td>\n",
              "      <td>15.04</td>\n",
              "      <td>1.0</td>\n",
              "      <td>3</td>\n",
              "      <td>-99999</td>\n",
              "      <td>-99999</td>\n",
              "      <td>-99999</td>\n",
              "      <td>-99999</td>\n",
              "      <td>2</td>\n",
              "      <td>2.0</td>\n",
              "      <td>95.0</td>\n",
              "      <td>88.0</td>\n",
              "      <td>-99999.0</td>\n",
              "      <td>90.0</td>\n",
              "      <td>1</td>\n",
              "      <td>-99999.0</td>\n",
              "      <td>-99999.0</td>\n",
              "      <td>-99999.0</td>\n",
              "      <td>1</td>\n",
              "      <td>-99999.0</td>\n",
              "    </tr>\n",
              "    <tr>\n",
              "      <th>195</th>\n",
              "      <td>1</td>\n",
              "      <td>13.64</td>\n",
              "      <td>1.0</td>\n",
              "      <td>0</td>\n",
              "      <td>-99999</td>\n",
              "      <td>-99999</td>\n",
              "      <td>-99999</td>\n",
              "      <td>-99999</td>\n",
              "      <td>1</td>\n",
              "      <td>2.0</td>\n",
              "      <td>114.0</td>\n",
              "      <td>109.0</td>\n",
              "      <td>-99999.0</td>\n",
              "      <td>113.0</td>\n",
              "      <td>1</td>\n",
              "      <td>-99999.0</td>\n",
              "      <td>-99999.0</td>\n",
              "      <td>-99999.0</td>\n",
              "      <td>0</td>\n",
              "      <td>-99999.0</td>\n",
              "    </tr>\n",
              "    <tr>\n",
              "      <th>196</th>\n",
              "      <td>1</td>\n",
              "      <td>13.72</td>\n",
              "      <td>1.0</td>\n",
              "      <td>3</td>\n",
              "      <td>-99999</td>\n",
              "      <td>-99999</td>\n",
              "      <td>-99999</td>\n",
              "      <td>-99999</td>\n",
              "      <td>2</td>\n",
              "      <td>2.0</td>\n",
              "      <td>103.0</td>\n",
              "      <td>103.0</td>\n",
              "      <td>-99999.0</td>\n",
              "      <td>104.0</td>\n",
              "      <td>1</td>\n",
              "      <td>-99999.0</td>\n",
              "      <td>-99999.0</td>\n",
              "      <td>-99999.0</td>\n",
              "      <td>1</td>\n",
              "      <td>-99999.0</td>\n",
              "    </tr>\n",
              "  </tbody>\n",
              "</table>\n",
              "<p>171 rows × 20 columns</p>\n",
              "</div>"
            ],
            "text/plain": [
              "     Gender    Age  Handedness  ... QC_Rest_4 QC_Anatomical_1 QC_Anatomical_2\n",
              "0         1  14.92         1.0  ...  -99999.0               1        -99999.0\n",
              "1         1  12.33         1.0  ...  -99999.0               1        -99999.0\n",
              "2         0   8.58         1.0  ...  -99999.0               1        -99999.0\n",
              "3         1   8.08         1.0  ...  -99999.0               1        -99999.0\n",
              "4         0   9.92         1.0  ...  -99999.0               1        -99999.0\n",
              "..      ...    ...         ...  ...       ...             ...             ...\n",
              "192       1  15.90         1.0  ...  -99999.0               1        -99999.0\n",
              "193       1  13.87         1.0  ...  -99999.0               1        -99999.0\n",
              "194       0  15.04         1.0  ...  -99999.0               1        -99999.0\n",
              "195       1  13.64         1.0  ...  -99999.0               0        -99999.0\n",
              "196       1  13.72         1.0  ...  -99999.0               1        -99999.0\n",
              "\n",
              "[171 rows x 20 columns]"
            ]
          },
          "metadata": {
            "tags": []
          },
          "execution_count": 392
        }
      ]
    },
    {
      "cell_type": "code",
      "metadata": {
        "colab": {
          "base_uri": "https://localhost:8080/",
          "height": 454
        },
        "id": "UfkwlM2Z8D0d",
        "outputId": "327fc915-96dd-449a-d79f-eb295f11168a"
      },
      "source": [
        "raw_data=raw_data.reset_index()\n",
        "raw_data"
      ],
      "execution_count": null,
      "outputs": [
        {
          "output_type": "execute_result",
          "data": {
            "text/html": [
              "<div>\n",
              "<style scoped>\n",
              "    .dataframe tbody tr th:only-of-type {\n",
              "        vertical-align: middle;\n",
              "    }\n",
              "\n",
              "    .dataframe tbody tr th {\n",
              "        vertical-align: top;\n",
              "    }\n",
              "\n",
              "    .dataframe thead th {\n",
              "        text-align: right;\n",
              "    }\n",
              "</style>\n",
              "<table border=\"1\" class=\"dataframe\">\n",
              "  <thead>\n",
              "    <tr style=\"text-align: right;\">\n",
              "      <th></th>\n",
              "      <th>index</th>\n",
              "      <th>Gender</th>\n",
              "      <th>Age</th>\n",
              "      <th>Handedness</th>\n",
              "      <th>DX</th>\n",
              "      <th>ADHD Measure</th>\n",
              "      <th>ADHD Index</th>\n",
              "      <th>Inattentive</th>\n",
              "      <th>Hyper/Impulsive</th>\n",
              "      <th>Med Status</th>\n",
              "      <th>IQ Measure</th>\n",
              "      <th>Verbal IQ</th>\n",
              "      <th>Performance IQ</th>\n",
              "      <th>Full2 IQ</th>\n",
              "      <th>Full4 IQ</th>\n",
              "      <th>QC_Rest_1</th>\n",
              "      <th>QC_Rest_2</th>\n",
              "      <th>QC_Rest_3</th>\n",
              "      <th>QC_Rest_4</th>\n",
              "      <th>QC_Anatomical_1</th>\n",
              "      <th>QC_Anatomical_2</th>\n",
              "    </tr>\n",
              "  </thead>\n",
              "  <tbody>\n",
              "    <tr>\n",
              "      <th>0</th>\n",
              "      <td>0</td>\n",
              "      <td>1</td>\n",
              "      <td>14.92</td>\n",
              "      <td>1.0</td>\n",
              "      <td>3</td>\n",
              "      <td>1</td>\n",
              "      <td>52</td>\n",
              "      <td>34</td>\n",
              "      <td>18</td>\n",
              "      <td>1</td>\n",
              "      <td>3.0</td>\n",
              "      <td>109.0</td>\n",
              "      <td>103.0</td>\n",
              "      <td>-999.0</td>\n",
              "      <td>107.0</td>\n",
              "      <td>1</td>\n",
              "      <td>-99999.0</td>\n",
              "      <td>-99999.0</td>\n",
              "      <td>-99999.0</td>\n",
              "      <td>1</td>\n",
              "      <td>-99999.0</td>\n",
              "    </tr>\n",
              "    <tr>\n",
              "      <th>1</th>\n",
              "      <td>1</td>\n",
              "      <td>1</td>\n",
              "      <td>12.33</td>\n",
              "      <td>1.0</td>\n",
              "      <td>3</td>\n",
              "      <td>1</td>\n",
              "      <td>49</td>\n",
              "      <td>28</td>\n",
              "      <td>21</td>\n",
              "      <td>2</td>\n",
              "      <td>3.0</td>\n",
              "      <td>115.0</td>\n",
              "      <td>103.0</td>\n",
              "      <td>-999.0</td>\n",
              "      <td>110.0</td>\n",
              "      <td>1</td>\n",
              "      <td>-99999.0</td>\n",
              "      <td>-99999.0</td>\n",
              "      <td>-99999.0</td>\n",
              "      <td>1</td>\n",
              "      <td>-99999.0</td>\n",
              "    </tr>\n",
              "    <tr>\n",
              "      <th>2</th>\n",
              "      <td>2</td>\n",
              "      <td>0</td>\n",
              "      <td>8.58</td>\n",
              "      <td>1.0</td>\n",
              "      <td>0</td>\n",
              "      <td>1</td>\n",
              "      <td>35</td>\n",
              "      <td>20</td>\n",
              "      <td>15</td>\n",
              "      <td>1</td>\n",
              "      <td>3.0</td>\n",
              "      <td>121.0</td>\n",
              "      <td>88.0</td>\n",
              "      <td>-999.0</td>\n",
              "      <td>106.0</td>\n",
              "      <td>1</td>\n",
              "      <td>-99999.0</td>\n",
              "      <td>-99999.0</td>\n",
              "      <td>-99999.0</td>\n",
              "      <td>1</td>\n",
              "      <td>-99999.0</td>\n",
              "    </tr>\n",
              "    <tr>\n",
              "      <th>3</th>\n",
              "      <td>3</td>\n",
              "      <td>1</td>\n",
              "      <td>8.08</td>\n",
              "      <td>1.0</td>\n",
              "      <td>0</td>\n",
              "      <td>1</td>\n",
              "      <td>35</td>\n",
              "      <td>19</td>\n",
              "      <td>16</td>\n",
              "      <td>1</td>\n",
              "      <td>3.0</td>\n",
              "      <td>119.0</td>\n",
              "      <td>106.0</td>\n",
              "      <td>-999.0</td>\n",
              "      <td>114.0</td>\n",
              "      <td>1</td>\n",
              "      <td>-99999.0</td>\n",
              "      <td>-99999.0</td>\n",
              "      <td>-99999.0</td>\n",
              "      <td>1</td>\n",
              "      <td>-99999.0</td>\n",
              "    </tr>\n",
              "    <tr>\n",
              "      <th>4</th>\n",
              "      <td>4</td>\n",
              "      <td>0</td>\n",
              "      <td>9.92</td>\n",
              "      <td>1.0</td>\n",
              "      <td>0</td>\n",
              "      <td>1</td>\n",
              "      <td>41</td>\n",
              "      <td>22</td>\n",
              "      <td>19</td>\n",
              "      <td>1</td>\n",
              "      <td>3.0</td>\n",
              "      <td>124.0</td>\n",
              "      <td>76.0</td>\n",
              "      <td>-999.0</td>\n",
              "      <td>102.0</td>\n",
              "      <td>1</td>\n",
              "      <td>-99999.0</td>\n",
              "      <td>-99999.0</td>\n",
              "      <td>-99999.0</td>\n",
              "      <td>1</td>\n",
              "      <td>-99999.0</td>\n",
              "    </tr>\n",
              "    <tr>\n",
              "      <th>...</th>\n",
              "      <td>...</td>\n",
              "      <td>...</td>\n",
              "      <td>...</td>\n",
              "      <td>...</td>\n",
              "      <td>...</td>\n",
              "      <td>...</td>\n",
              "      <td>...</td>\n",
              "      <td>...</td>\n",
              "      <td>...</td>\n",
              "      <td>...</td>\n",
              "      <td>...</td>\n",
              "      <td>...</td>\n",
              "      <td>...</td>\n",
              "      <td>...</td>\n",
              "      <td>...</td>\n",
              "      <td>...</td>\n",
              "      <td>...</td>\n",
              "      <td>...</td>\n",
              "      <td>...</td>\n",
              "      <td>...</td>\n",
              "      <td>...</td>\n",
              "    </tr>\n",
              "    <tr>\n",
              "      <th>166</th>\n",
              "      <td>192</td>\n",
              "      <td>1</td>\n",
              "      <td>15.90</td>\n",
              "      <td>1.0</td>\n",
              "      <td>3</td>\n",
              "      <td>-99999</td>\n",
              "      <td>-99999</td>\n",
              "      <td>-99999</td>\n",
              "      <td>-99999</td>\n",
              "      <td>2</td>\n",
              "      <td>2.0</td>\n",
              "      <td>127.0</td>\n",
              "      <td>105.0</td>\n",
              "      <td>-99999.0</td>\n",
              "      <td>117.0</td>\n",
              "      <td>1</td>\n",
              "      <td>-99999.0</td>\n",
              "      <td>-99999.0</td>\n",
              "      <td>-99999.0</td>\n",
              "      <td>1</td>\n",
              "      <td>-99999.0</td>\n",
              "    </tr>\n",
              "    <tr>\n",
              "      <th>167</th>\n",
              "      <td>193</td>\n",
              "      <td>1</td>\n",
              "      <td>13.87</td>\n",
              "      <td>1.0</td>\n",
              "      <td>0</td>\n",
              "      <td>-99999</td>\n",
              "      <td>-99999</td>\n",
              "      <td>-99999</td>\n",
              "      <td>-99999</td>\n",
              "      <td>1</td>\n",
              "      <td>2.0</td>\n",
              "      <td>135.0</td>\n",
              "      <td>119.0</td>\n",
              "      <td>-99999.0</td>\n",
              "      <td>130.0</td>\n",
              "      <td>1</td>\n",
              "      <td>-99999.0</td>\n",
              "      <td>-99999.0</td>\n",
              "      <td>-99999.0</td>\n",
              "      <td>1</td>\n",
              "      <td>-99999.0</td>\n",
              "    </tr>\n",
              "    <tr>\n",
              "      <th>168</th>\n",
              "      <td>194</td>\n",
              "      <td>0</td>\n",
              "      <td>15.04</td>\n",
              "      <td>1.0</td>\n",
              "      <td>3</td>\n",
              "      <td>-99999</td>\n",
              "      <td>-99999</td>\n",
              "      <td>-99999</td>\n",
              "      <td>-99999</td>\n",
              "      <td>2</td>\n",
              "      <td>2.0</td>\n",
              "      <td>95.0</td>\n",
              "      <td>88.0</td>\n",
              "      <td>-99999.0</td>\n",
              "      <td>90.0</td>\n",
              "      <td>1</td>\n",
              "      <td>-99999.0</td>\n",
              "      <td>-99999.0</td>\n",
              "      <td>-99999.0</td>\n",
              "      <td>1</td>\n",
              "      <td>-99999.0</td>\n",
              "    </tr>\n",
              "    <tr>\n",
              "      <th>169</th>\n",
              "      <td>195</td>\n",
              "      <td>1</td>\n",
              "      <td>13.64</td>\n",
              "      <td>1.0</td>\n",
              "      <td>0</td>\n",
              "      <td>-99999</td>\n",
              "      <td>-99999</td>\n",
              "      <td>-99999</td>\n",
              "      <td>-99999</td>\n",
              "      <td>1</td>\n",
              "      <td>2.0</td>\n",
              "      <td>114.0</td>\n",
              "      <td>109.0</td>\n",
              "      <td>-99999.0</td>\n",
              "      <td>113.0</td>\n",
              "      <td>1</td>\n",
              "      <td>-99999.0</td>\n",
              "      <td>-99999.0</td>\n",
              "      <td>-99999.0</td>\n",
              "      <td>0</td>\n",
              "      <td>-99999.0</td>\n",
              "    </tr>\n",
              "    <tr>\n",
              "      <th>170</th>\n",
              "      <td>196</td>\n",
              "      <td>1</td>\n",
              "      <td>13.72</td>\n",
              "      <td>1.0</td>\n",
              "      <td>3</td>\n",
              "      <td>-99999</td>\n",
              "      <td>-99999</td>\n",
              "      <td>-99999</td>\n",
              "      <td>-99999</td>\n",
              "      <td>2</td>\n",
              "      <td>2.0</td>\n",
              "      <td>103.0</td>\n",
              "      <td>103.0</td>\n",
              "      <td>-99999.0</td>\n",
              "      <td>104.0</td>\n",
              "      <td>1</td>\n",
              "      <td>-99999.0</td>\n",
              "      <td>-99999.0</td>\n",
              "      <td>-99999.0</td>\n",
              "      <td>1</td>\n",
              "      <td>-99999.0</td>\n",
              "    </tr>\n",
              "  </tbody>\n",
              "</table>\n",
              "<p>171 rows × 21 columns</p>\n",
              "</div>"
            ],
            "text/plain": [
              "     index  Gender    Age  ...  QC_Rest_4 QC_Anatomical_1 QC_Anatomical_2\n",
              "0        0       1  14.92  ...   -99999.0               1        -99999.0\n",
              "1        1       1  12.33  ...   -99999.0               1        -99999.0\n",
              "2        2       0   8.58  ...   -99999.0               1        -99999.0\n",
              "3        3       1   8.08  ...   -99999.0               1        -99999.0\n",
              "4        4       0   9.92  ...   -99999.0               1        -99999.0\n",
              "..     ...     ...    ...  ...        ...             ...             ...\n",
              "166    192       1  15.90  ...   -99999.0               1        -99999.0\n",
              "167    193       1  13.87  ...   -99999.0               1        -99999.0\n",
              "168    194       0  15.04  ...   -99999.0               1        -99999.0\n",
              "169    195       1  13.64  ...   -99999.0               0        -99999.0\n",
              "170    196       1  13.72  ...   -99999.0               1        -99999.0\n",
              "\n",
              "[171 rows x 21 columns]"
            ]
          },
          "metadata": {
            "tags": []
          },
          "execution_count": 393
        }
      ]
    },
    {
      "cell_type": "code",
      "metadata": {
        "colab": {
          "base_uri": "https://localhost:8080/",
          "height": 454
        },
        "id": "zTFHtJ0x8_RE",
        "outputId": "d82da4f7-6e49-4c44-992b-bcf70b090c3c"
      },
      "source": [
        "raw_data.drop(columns=['index'],inplace=True)\n",
        "raw_data"
      ],
      "execution_count": null,
      "outputs": [
        {
          "output_type": "execute_result",
          "data": {
            "text/html": [
              "<div>\n",
              "<style scoped>\n",
              "    .dataframe tbody tr th:only-of-type {\n",
              "        vertical-align: middle;\n",
              "    }\n",
              "\n",
              "    .dataframe tbody tr th {\n",
              "        vertical-align: top;\n",
              "    }\n",
              "\n",
              "    .dataframe thead th {\n",
              "        text-align: right;\n",
              "    }\n",
              "</style>\n",
              "<table border=\"1\" class=\"dataframe\">\n",
              "  <thead>\n",
              "    <tr style=\"text-align: right;\">\n",
              "      <th></th>\n",
              "      <th>Gender</th>\n",
              "      <th>Age</th>\n",
              "      <th>Handedness</th>\n",
              "      <th>DX</th>\n",
              "      <th>ADHD Measure</th>\n",
              "      <th>ADHD Index</th>\n",
              "      <th>Inattentive</th>\n",
              "      <th>Hyper/Impulsive</th>\n",
              "      <th>Med Status</th>\n",
              "      <th>IQ Measure</th>\n",
              "      <th>Verbal IQ</th>\n",
              "      <th>Performance IQ</th>\n",
              "      <th>Full2 IQ</th>\n",
              "      <th>Full4 IQ</th>\n",
              "      <th>QC_Rest_1</th>\n",
              "      <th>QC_Rest_2</th>\n",
              "      <th>QC_Rest_3</th>\n",
              "      <th>QC_Rest_4</th>\n",
              "      <th>QC_Anatomical_1</th>\n",
              "      <th>QC_Anatomical_2</th>\n",
              "    </tr>\n",
              "  </thead>\n",
              "  <tbody>\n",
              "    <tr>\n",
              "      <th>0</th>\n",
              "      <td>1</td>\n",
              "      <td>14.92</td>\n",
              "      <td>1.0</td>\n",
              "      <td>3</td>\n",
              "      <td>1</td>\n",
              "      <td>52</td>\n",
              "      <td>34</td>\n",
              "      <td>18</td>\n",
              "      <td>1</td>\n",
              "      <td>3.0</td>\n",
              "      <td>109.0</td>\n",
              "      <td>103.0</td>\n",
              "      <td>-999.0</td>\n",
              "      <td>107.0</td>\n",
              "      <td>1</td>\n",
              "      <td>-99999.0</td>\n",
              "      <td>-99999.0</td>\n",
              "      <td>-99999.0</td>\n",
              "      <td>1</td>\n",
              "      <td>-99999.0</td>\n",
              "    </tr>\n",
              "    <tr>\n",
              "      <th>1</th>\n",
              "      <td>1</td>\n",
              "      <td>12.33</td>\n",
              "      <td>1.0</td>\n",
              "      <td>3</td>\n",
              "      <td>1</td>\n",
              "      <td>49</td>\n",
              "      <td>28</td>\n",
              "      <td>21</td>\n",
              "      <td>2</td>\n",
              "      <td>3.0</td>\n",
              "      <td>115.0</td>\n",
              "      <td>103.0</td>\n",
              "      <td>-999.0</td>\n",
              "      <td>110.0</td>\n",
              "      <td>1</td>\n",
              "      <td>-99999.0</td>\n",
              "      <td>-99999.0</td>\n",
              "      <td>-99999.0</td>\n",
              "      <td>1</td>\n",
              "      <td>-99999.0</td>\n",
              "    </tr>\n",
              "    <tr>\n",
              "      <th>2</th>\n",
              "      <td>0</td>\n",
              "      <td>8.58</td>\n",
              "      <td>1.0</td>\n",
              "      <td>0</td>\n",
              "      <td>1</td>\n",
              "      <td>35</td>\n",
              "      <td>20</td>\n",
              "      <td>15</td>\n",
              "      <td>1</td>\n",
              "      <td>3.0</td>\n",
              "      <td>121.0</td>\n",
              "      <td>88.0</td>\n",
              "      <td>-999.0</td>\n",
              "      <td>106.0</td>\n",
              "      <td>1</td>\n",
              "      <td>-99999.0</td>\n",
              "      <td>-99999.0</td>\n",
              "      <td>-99999.0</td>\n",
              "      <td>1</td>\n",
              "      <td>-99999.0</td>\n",
              "    </tr>\n",
              "    <tr>\n",
              "      <th>3</th>\n",
              "      <td>1</td>\n",
              "      <td>8.08</td>\n",
              "      <td>1.0</td>\n",
              "      <td>0</td>\n",
              "      <td>1</td>\n",
              "      <td>35</td>\n",
              "      <td>19</td>\n",
              "      <td>16</td>\n",
              "      <td>1</td>\n",
              "      <td>3.0</td>\n",
              "      <td>119.0</td>\n",
              "      <td>106.0</td>\n",
              "      <td>-999.0</td>\n",
              "      <td>114.0</td>\n",
              "      <td>1</td>\n",
              "      <td>-99999.0</td>\n",
              "      <td>-99999.0</td>\n",
              "      <td>-99999.0</td>\n",
              "      <td>1</td>\n",
              "      <td>-99999.0</td>\n",
              "    </tr>\n",
              "    <tr>\n",
              "      <th>4</th>\n",
              "      <td>0</td>\n",
              "      <td>9.92</td>\n",
              "      <td>1.0</td>\n",
              "      <td>0</td>\n",
              "      <td>1</td>\n",
              "      <td>41</td>\n",
              "      <td>22</td>\n",
              "      <td>19</td>\n",
              "      <td>1</td>\n",
              "      <td>3.0</td>\n",
              "      <td>124.0</td>\n",
              "      <td>76.0</td>\n",
              "      <td>-999.0</td>\n",
              "      <td>102.0</td>\n",
              "      <td>1</td>\n",
              "      <td>-99999.0</td>\n",
              "      <td>-99999.0</td>\n",
              "      <td>-99999.0</td>\n",
              "      <td>1</td>\n",
              "      <td>-99999.0</td>\n",
              "    </tr>\n",
              "    <tr>\n",
              "      <th>...</th>\n",
              "      <td>...</td>\n",
              "      <td>...</td>\n",
              "      <td>...</td>\n",
              "      <td>...</td>\n",
              "      <td>...</td>\n",
              "      <td>...</td>\n",
              "      <td>...</td>\n",
              "      <td>...</td>\n",
              "      <td>...</td>\n",
              "      <td>...</td>\n",
              "      <td>...</td>\n",
              "      <td>...</td>\n",
              "      <td>...</td>\n",
              "      <td>...</td>\n",
              "      <td>...</td>\n",
              "      <td>...</td>\n",
              "      <td>...</td>\n",
              "      <td>...</td>\n",
              "      <td>...</td>\n",
              "      <td>...</td>\n",
              "    </tr>\n",
              "    <tr>\n",
              "      <th>166</th>\n",
              "      <td>1</td>\n",
              "      <td>15.90</td>\n",
              "      <td>1.0</td>\n",
              "      <td>3</td>\n",
              "      <td>-99999</td>\n",
              "      <td>-99999</td>\n",
              "      <td>-99999</td>\n",
              "      <td>-99999</td>\n",
              "      <td>2</td>\n",
              "      <td>2.0</td>\n",
              "      <td>127.0</td>\n",
              "      <td>105.0</td>\n",
              "      <td>-99999.0</td>\n",
              "      <td>117.0</td>\n",
              "      <td>1</td>\n",
              "      <td>-99999.0</td>\n",
              "      <td>-99999.0</td>\n",
              "      <td>-99999.0</td>\n",
              "      <td>1</td>\n",
              "      <td>-99999.0</td>\n",
              "    </tr>\n",
              "    <tr>\n",
              "      <th>167</th>\n",
              "      <td>1</td>\n",
              "      <td>13.87</td>\n",
              "      <td>1.0</td>\n",
              "      <td>0</td>\n",
              "      <td>-99999</td>\n",
              "      <td>-99999</td>\n",
              "      <td>-99999</td>\n",
              "      <td>-99999</td>\n",
              "      <td>1</td>\n",
              "      <td>2.0</td>\n",
              "      <td>135.0</td>\n",
              "      <td>119.0</td>\n",
              "      <td>-99999.0</td>\n",
              "      <td>130.0</td>\n",
              "      <td>1</td>\n",
              "      <td>-99999.0</td>\n",
              "      <td>-99999.0</td>\n",
              "      <td>-99999.0</td>\n",
              "      <td>1</td>\n",
              "      <td>-99999.0</td>\n",
              "    </tr>\n",
              "    <tr>\n",
              "      <th>168</th>\n",
              "      <td>0</td>\n",
              "      <td>15.04</td>\n",
              "      <td>1.0</td>\n",
              "      <td>3</td>\n",
              "      <td>-99999</td>\n",
              "      <td>-99999</td>\n",
              "      <td>-99999</td>\n",
              "      <td>-99999</td>\n",
              "      <td>2</td>\n",
              "      <td>2.0</td>\n",
              "      <td>95.0</td>\n",
              "      <td>88.0</td>\n",
              "      <td>-99999.0</td>\n",
              "      <td>90.0</td>\n",
              "      <td>1</td>\n",
              "      <td>-99999.0</td>\n",
              "      <td>-99999.0</td>\n",
              "      <td>-99999.0</td>\n",
              "      <td>1</td>\n",
              "      <td>-99999.0</td>\n",
              "    </tr>\n",
              "    <tr>\n",
              "      <th>169</th>\n",
              "      <td>1</td>\n",
              "      <td>13.64</td>\n",
              "      <td>1.0</td>\n",
              "      <td>0</td>\n",
              "      <td>-99999</td>\n",
              "      <td>-99999</td>\n",
              "      <td>-99999</td>\n",
              "      <td>-99999</td>\n",
              "      <td>1</td>\n",
              "      <td>2.0</td>\n",
              "      <td>114.0</td>\n",
              "      <td>109.0</td>\n",
              "      <td>-99999.0</td>\n",
              "      <td>113.0</td>\n",
              "      <td>1</td>\n",
              "      <td>-99999.0</td>\n",
              "      <td>-99999.0</td>\n",
              "      <td>-99999.0</td>\n",
              "      <td>0</td>\n",
              "      <td>-99999.0</td>\n",
              "    </tr>\n",
              "    <tr>\n",
              "      <th>170</th>\n",
              "      <td>1</td>\n",
              "      <td>13.72</td>\n",
              "      <td>1.0</td>\n",
              "      <td>3</td>\n",
              "      <td>-99999</td>\n",
              "      <td>-99999</td>\n",
              "      <td>-99999</td>\n",
              "      <td>-99999</td>\n",
              "      <td>2</td>\n",
              "      <td>2.0</td>\n",
              "      <td>103.0</td>\n",
              "      <td>103.0</td>\n",
              "      <td>-99999.0</td>\n",
              "      <td>104.0</td>\n",
              "      <td>1</td>\n",
              "      <td>-99999.0</td>\n",
              "      <td>-99999.0</td>\n",
              "      <td>-99999.0</td>\n",
              "      <td>1</td>\n",
              "      <td>-99999.0</td>\n",
              "    </tr>\n",
              "  </tbody>\n",
              "</table>\n",
              "<p>171 rows × 20 columns</p>\n",
              "</div>"
            ],
            "text/plain": [
              "     Gender    Age  Handedness  ... QC_Rest_4 QC_Anatomical_1 QC_Anatomical_2\n",
              "0         1  14.92         1.0  ...  -99999.0               1        -99999.0\n",
              "1         1  12.33         1.0  ...  -99999.0               1        -99999.0\n",
              "2         0   8.58         1.0  ...  -99999.0               1        -99999.0\n",
              "3         1   8.08         1.0  ...  -99999.0               1        -99999.0\n",
              "4         0   9.92         1.0  ...  -99999.0               1        -99999.0\n",
              "..      ...    ...         ...  ...       ...             ...             ...\n",
              "166       1  15.90         1.0  ...  -99999.0               1        -99999.0\n",
              "167       1  13.87         1.0  ...  -99999.0               1        -99999.0\n",
              "168       0  15.04         1.0  ...  -99999.0               1        -99999.0\n",
              "169       1  13.64         1.0  ...  -99999.0               0        -99999.0\n",
              "170       1  13.72         1.0  ...  -99999.0               1        -99999.0\n",
              "\n",
              "[171 rows x 20 columns]"
            ]
          },
          "metadata": {
            "tags": []
          },
          "execution_count": 394
        }
      ]
    },
    {
      "cell_type": "markdown",
      "metadata": {
        "id": "N-iUvxapEnDz"
      },
      "source": [
        "splitting ip and op"
      ]
    },
    {
      "cell_type": "code",
      "metadata": {
        "id": "eCPnjIggEr4F"
      },
      "source": [
        "ip=raw_data.drop(columns=['DX'])"
      ],
      "execution_count": null,
      "outputs": []
    },
    {
      "cell_type": "code",
      "metadata": {
        "id": "whfV28uToeEi"
      },
      "source": [
        "#type(ip)"
      ],
      "execution_count": null,
      "outputs": []
    },
    {
      "cell_type": "code",
      "metadata": {
        "colab": {
          "base_uri": "https://localhost:8080/"
        },
        "id": "_zyQJ5-pFmRi",
        "outputId": "55537c47-0442-43e4-b5fd-b172d335b5ea"
      },
      "source": [
        "ip.shape"
      ],
      "execution_count": null,
      "outputs": [
        {
          "output_type": "execute_result",
          "data": {
            "text/plain": [
              "(171, 19)"
            ]
          },
          "metadata": {
            "tags": []
          },
          "execution_count": 397
        }
      ]
    },
    {
      "cell_type": "code",
      "metadata": {
        "colab": {
          "base_uri": "https://localhost:8080/",
          "height": 454
        },
        "id": "82Y32Os4IHc-",
        "outputId": "f153ce9d-d128-4de8-a7b9-a122f3abc087"
      },
      "source": [
        "ip"
      ],
      "execution_count": null,
      "outputs": [
        {
          "output_type": "execute_result",
          "data": {
            "text/html": [
              "<div>\n",
              "<style scoped>\n",
              "    .dataframe tbody tr th:only-of-type {\n",
              "        vertical-align: middle;\n",
              "    }\n",
              "\n",
              "    .dataframe tbody tr th {\n",
              "        vertical-align: top;\n",
              "    }\n",
              "\n",
              "    .dataframe thead th {\n",
              "        text-align: right;\n",
              "    }\n",
              "</style>\n",
              "<table border=\"1\" class=\"dataframe\">\n",
              "  <thead>\n",
              "    <tr style=\"text-align: right;\">\n",
              "      <th></th>\n",
              "      <th>Gender</th>\n",
              "      <th>Age</th>\n",
              "      <th>Handedness</th>\n",
              "      <th>ADHD Measure</th>\n",
              "      <th>ADHD Index</th>\n",
              "      <th>Inattentive</th>\n",
              "      <th>Hyper/Impulsive</th>\n",
              "      <th>Med Status</th>\n",
              "      <th>IQ Measure</th>\n",
              "      <th>Verbal IQ</th>\n",
              "      <th>Performance IQ</th>\n",
              "      <th>Full2 IQ</th>\n",
              "      <th>Full4 IQ</th>\n",
              "      <th>QC_Rest_1</th>\n",
              "      <th>QC_Rest_2</th>\n",
              "      <th>QC_Rest_3</th>\n",
              "      <th>QC_Rest_4</th>\n",
              "      <th>QC_Anatomical_1</th>\n",
              "      <th>QC_Anatomical_2</th>\n",
              "    </tr>\n",
              "  </thead>\n",
              "  <tbody>\n",
              "    <tr>\n",
              "      <th>0</th>\n",
              "      <td>1</td>\n",
              "      <td>14.92</td>\n",
              "      <td>1.0</td>\n",
              "      <td>1</td>\n",
              "      <td>52</td>\n",
              "      <td>34</td>\n",
              "      <td>18</td>\n",
              "      <td>1</td>\n",
              "      <td>3.0</td>\n",
              "      <td>109.0</td>\n",
              "      <td>103.0</td>\n",
              "      <td>-999.0</td>\n",
              "      <td>107.0</td>\n",
              "      <td>1</td>\n",
              "      <td>-99999.0</td>\n",
              "      <td>-99999.0</td>\n",
              "      <td>-99999.0</td>\n",
              "      <td>1</td>\n",
              "      <td>-99999.0</td>\n",
              "    </tr>\n",
              "    <tr>\n",
              "      <th>1</th>\n",
              "      <td>1</td>\n",
              "      <td>12.33</td>\n",
              "      <td>1.0</td>\n",
              "      <td>1</td>\n",
              "      <td>49</td>\n",
              "      <td>28</td>\n",
              "      <td>21</td>\n",
              "      <td>2</td>\n",
              "      <td>3.0</td>\n",
              "      <td>115.0</td>\n",
              "      <td>103.0</td>\n",
              "      <td>-999.0</td>\n",
              "      <td>110.0</td>\n",
              "      <td>1</td>\n",
              "      <td>-99999.0</td>\n",
              "      <td>-99999.0</td>\n",
              "      <td>-99999.0</td>\n",
              "      <td>1</td>\n",
              "      <td>-99999.0</td>\n",
              "    </tr>\n",
              "    <tr>\n",
              "      <th>2</th>\n",
              "      <td>0</td>\n",
              "      <td>8.58</td>\n",
              "      <td>1.0</td>\n",
              "      <td>1</td>\n",
              "      <td>35</td>\n",
              "      <td>20</td>\n",
              "      <td>15</td>\n",
              "      <td>1</td>\n",
              "      <td>3.0</td>\n",
              "      <td>121.0</td>\n",
              "      <td>88.0</td>\n",
              "      <td>-999.0</td>\n",
              "      <td>106.0</td>\n",
              "      <td>1</td>\n",
              "      <td>-99999.0</td>\n",
              "      <td>-99999.0</td>\n",
              "      <td>-99999.0</td>\n",
              "      <td>1</td>\n",
              "      <td>-99999.0</td>\n",
              "    </tr>\n",
              "    <tr>\n",
              "      <th>3</th>\n",
              "      <td>1</td>\n",
              "      <td>8.08</td>\n",
              "      <td>1.0</td>\n",
              "      <td>1</td>\n",
              "      <td>35</td>\n",
              "      <td>19</td>\n",
              "      <td>16</td>\n",
              "      <td>1</td>\n",
              "      <td>3.0</td>\n",
              "      <td>119.0</td>\n",
              "      <td>106.0</td>\n",
              "      <td>-999.0</td>\n",
              "      <td>114.0</td>\n",
              "      <td>1</td>\n",
              "      <td>-99999.0</td>\n",
              "      <td>-99999.0</td>\n",
              "      <td>-99999.0</td>\n",
              "      <td>1</td>\n",
              "      <td>-99999.0</td>\n",
              "    </tr>\n",
              "    <tr>\n",
              "      <th>4</th>\n",
              "      <td>0</td>\n",
              "      <td>9.92</td>\n",
              "      <td>1.0</td>\n",
              "      <td>1</td>\n",
              "      <td>41</td>\n",
              "      <td>22</td>\n",
              "      <td>19</td>\n",
              "      <td>1</td>\n",
              "      <td>3.0</td>\n",
              "      <td>124.0</td>\n",
              "      <td>76.0</td>\n",
              "      <td>-999.0</td>\n",
              "      <td>102.0</td>\n",
              "      <td>1</td>\n",
              "      <td>-99999.0</td>\n",
              "      <td>-99999.0</td>\n",
              "      <td>-99999.0</td>\n",
              "      <td>1</td>\n",
              "      <td>-99999.0</td>\n",
              "    </tr>\n",
              "    <tr>\n",
              "      <th>...</th>\n",
              "      <td>...</td>\n",
              "      <td>...</td>\n",
              "      <td>...</td>\n",
              "      <td>...</td>\n",
              "      <td>...</td>\n",
              "      <td>...</td>\n",
              "      <td>...</td>\n",
              "      <td>...</td>\n",
              "      <td>...</td>\n",
              "      <td>...</td>\n",
              "      <td>...</td>\n",
              "      <td>...</td>\n",
              "      <td>...</td>\n",
              "      <td>...</td>\n",
              "      <td>...</td>\n",
              "      <td>...</td>\n",
              "      <td>...</td>\n",
              "      <td>...</td>\n",
              "      <td>...</td>\n",
              "    </tr>\n",
              "    <tr>\n",
              "      <th>166</th>\n",
              "      <td>1</td>\n",
              "      <td>15.90</td>\n",
              "      <td>1.0</td>\n",
              "      <td>-99999</td>\n",
              "      <td>-99999</td>\n",
              "      <td>-99999</td>\n",
              "      <td>-99999</td>\n",
              "      <td>2</td>\n",
              "      <td>2.0</td>\n",
              "      <td>127.0</td>\n",
              "      <td>105.0</td>\n",
              "      <td>-99999.0</td>\n",
              "      <td>117.0</td>\n",
              "      <td>1</td>\n",
              "      <td>-99999.0</td>\n",
              "      <td>-99999.0</td>\n",
              "      <td>-99999.0</td>\n",
              "      <td>1</td>\n",
              "      <td>-99999.0</td>\n",
              "    </tr>\n",
              "    <tr>\n",
              "      <th>167</th>\n",
              "      <td>1</td>\n",
              "      <td>13.87</td>\n",
              "      <td>1.0</td>\n",
              "      <td>-99999</td>\n",
              "      <td>-99999</td>\n",
              "      <td>-99999</td>\n",
              "      <td>-99999</td>\n",
              "      <td>1</td>\n",
              "      <td>2.0</td>\n",
              "      <td>135.0</td>\n",
              "      <td>119.0</td>\n",
              "      <td>-99999.0</td>\n",
              "      <td>130.0</td>\n",
              "      <td>1</td>\n",
              "      <td>-99999.0</td>\n",
              "      <td>-99999.0</td>\n",
              "      <td>-99999.0</td>\n",
              "      <td>1</td>\n",
              "      <td>-99999.0</td>\n",
              "    </tr>\n",
              "    <tr>\n",
              "      <th>168</th>\n",
              "      <td>0</td>\n",
              "      <td>15.04</td>\n",
              "      <td>1.0</td>\n",
              "      <td>-99999</td>\n",
              "      <td>-99999</td>\n",
              "      <td>-99999</td>\n",
              "      <td>-99999</td>\n",
              "      <td>2</td>\n",
              "      <td>2.0</td>\n",
              "      <td>95.0</td>\n",
              "      <td>88.0</td>\n",
              "      <td>-99999.0</td>\n",
              "      <td>90.0</td>\n",
              "      <td>1</td>\n",
              "      <td>-99999.0</td>\n",
              "      <td>-99999.0</td>\n",
              "      <td>-99999.0</td>\n",
              "      <td>1</td>\n",
              "      <td>-99999.0</td>\n",
              "    </tr>\n",
              "    <tr>\n",
              "      <th>169</th>\n",
              "      <td>1</td>\n",
              "      <td>13.64</td>\n",
              "      <td>1.0</td>\n",
              "      <td>-99999</td>\n",
              "      <td>-99999</td>\n",
              "      <td>-99999</td>\n",
              "      <td>-99999</td>\n",
              "      <td>1</td>\n",
              "      <td>2.0</td>\n",
              "      <td>114.0</td>\n",
              "      <td>109.0</td>\n",
              "      <td>-99999.0</td>\n",
              "      <td>113.0</td>\n",
              "      <td>1</td>\n",
              "      <td>-99999.0</td>\n",
              "      <td>-99999.0</td>\n",
              "      <td>-99999.0</td>\n",
              "      <td>0</td>\n",
              "      <td>-99999.0</td>\n",
              "    </tr>\n",
              "    <tr>\n",
              "      <th>170</th>\n",
              "      <td>1</td>\n",
              "      <td>13.72</td>\n",
              "      <td>1.0</td>\n",
              "      <td>-99999</td>\n",
              "      <td>-99999</td>\n",
              "      <td>-99999</td>\n",
              "      <td>-99999</td>\n",
              "      <td>2</td>\n",
              "      <td>2.0</td>\n",
              "      <td>103.0</td>\n",
              "      <td>103.0</td>\n",
              "      <td>-99999.0</td>\n",
              "      <td>104.0</td>\n",
              "      <td>1</td>\n",
              "      <td>-99999.0</td>\n",
              "      <td>-99999.0</td>\n",
              "      <td>-99999.0</td>\n",
              "      <td>1</td>\n",
              "      <td>-99999.0</td>\n",
              "    </tr>\n",
              "  </tbody>\n",
              "</table>\n",
              "<p>171 rows × 19 columns</p>\n",
              "</div>"
            ],
            "text/plain": [
              "     Gender    Age  Handedness  ... QC_Rest_4 QC_Anatomical_1 QC_Anatomical_2\n",
              "0         1  14.92         1.0  ...  -99999.0               1        -99999.0\n",
              "1         1  12.33         1.0  ...  -99999.0               1        -99999.0\n",
              "2         0   8.58         1.0  ...  -99999.0               1        -99999.0\n",
              "3         1   8.08         1.0  ...  -99999.0               1        -99999.0\n",
              "4         0   9.92         1.0  ...  -99999.0               1        -99999.0\n",
              "..      ...    ...         ...  ...       ...             ...             ...\n",
              "166       1  15.90         1.0  ...  -99999.0               1        -99999.0\n",
              "167       1  13.87         1.0  ...  -99999.0               1        -99999.0\n",
              "168       0  15.04         1.0  ...  -99999.0               1        -99999.0\n",
              "169       1  13.64         1.0  ...  -99999.0               0        -99999.0\n",
              "170       1  13.72         1.0  ...  -99999.0               1        -99999.0\n",
              "\n",
              "[171 rows x 19 columns]"
            ]
          },
          "metadata": {
            "tags": []
          },
          "execution_count": 398
        }
      ]
    },
    {
      "cell_type": "code",
      "metadata": {
        "id": "Vohet2PaFpOq"
      },
      "source": [
        "op=raw_data['DX']"
      ],
      "execution_count": null,
      "outputs": []
    },
    {
      "cell_type": "code",
      "metadata": {
        "colab": {
          "base_uri": "https://localhost:8080/"
        },
        "id": "YvhnzEeSFuCj",
        "outputId": "3ccb6b37-a9a0-4324-ef74-d2d2bf85beee"
      },
      "source": [
        "op.shape"
      ],
      "execution_count": null,
      "outputs": [
        {
          "output_type": "execute_result",
          "data": {
            "text/plain": [
              "(171,)"
            ]
          },
          "metadata": {
            "tags": []
          },
          "execution_count": 400
        }
      ]
    },
    {
      "cell_type": "code",
      "metadata": {
        "colab": {
          "base_uri": "https://localhost:8080/"
        },
        "id": "7sT1oC4QIJBk",
        "outputId": "789f3edd-0c11-40e0-dca3-af4eb777f3ca"
      },
      "source": [
        "op"
      ],
      "execution_count": null,
      "outputs": [
        {
          "output_type": "execute_result",
          "data": {
            "text/plain": [
              "0      3\n",
              "1      3\n",
              "2      0\n",
              "3      0\n",
              "4      0\n",
              "      ..\n",
              "166    3\n",
              "167    0\n",
              "168    3\n",
              "169    0\n",
              "170    3\n",
              "Name: DX, Length: 171, dtype: object"
            ]
          },
          "metadata": {
            "tags": []
          },
          "execution_count": 401
        }
      ]
    },
    {
      "cell_type": "code",
      "metadata": {
        "colab": {
          "base_uri": "https://localhost:8080/"
        },
        "id": "TOuPBvVWE4wC",
        "outputId": "07040d12-f6c4-4df2-92cf-8a0bc3cd9681"
      },
      "source": [
        "from imblearn.over_sampling import SMOTE\n",
        "sm = SMOTE(k_neighbors=1,random_state=100)\n",
        "ip,op=sm.fit_sample(ip,op.ravel())\n",
        "#sm.fit(x_test,y_test)\n",
        "ip,op=sm.fit_resample(ip,op.ravel())"
      ],
      "execution_count": null,
      "outputs": [
        {
          "output_type": "stream",
          "text": [
            "/usr/local/lib/python3.7/dist-packages/sklearn/utils/deprecation.py:87: FutureWarning: Function safe_indexing is deprecated; safe_indexing is deprecated in version 0.22 and will be removed in version 0.24.\n",
            "  warnings.warn(msg, category=FutureWarning)\n",
            "/usr/local/lib/python3.7/dist-packages/sklearn/utils/deprecation.py:87: FutureWarning: Function safe_indexing is deprecated; safe_indexing is deprecated in version 0.22 and will be removed in version 0.24.\n",
            "  warnings.warn(msg, category=FutureWarning)\n",
            "/usr/local/lib/python3.7/dist-packages/sklearn/utils/deprecation.py:87: FutureWarning: Function safe_indexing is deprecated; safe_indexing is deprecated in version 0.22 and will be removed in version 0.24.\n",
            "  warnings.warn(msg, category=FutureWarning)\n"
          ],
          "name": "stderr"
        }
      ]
    },
    {
      "cell_type": "code",
      "metadata": {
        "colab": {
          "base_uri": "https://localhost:8080/"
        },
        "id": "s5O4qBaNE95H",
        "outputId": "cbba70e5-0918-482e-ed13-9463978a17f3"
      },
      "source": [
        "ip.shape,op.shape"
      ],
      "execution_count": null,
      "outputs": [
        {
          "output_type": "execute_result",
          "data": {
            "text/plain": [
              "((376, 19), (376,))"
            ]
          },
          "metadata": {
            "tags": []
          },
          "execution_count": 403
        }
      ]
    },
    {
      "cell_type": "markdown",
      "metadata": {
        "id": "3_nQTj8OF_fp"
      },
      "source": [
        "Splitting train and test"
      ]
    },
    {
      "cell_type": "code",
      "metadata": {
        "id": "TW3xwV7Z-XLY"
      },
      "source": [
        ""
      ],
      "execution_count": null,
      "outputs": []
    },
    {
      "cell_type": "code",
      "metadata": {
        "id": "nm5w2MttGDyn"
      },
      "source": [
        "from sklearn.model_selection import train_test_split\n",
        "x_train,x_test,y_train,y_test=train_test_split(ip,op,test_size=0.25, random_state=2)"
      ],
      "execution_count": null,
      "outputs": []
    },
    {
      "cell_type": "code",
      "metadata": {
        "colab": {
          "base_uri": "https://localhost:8080/"
        },
        "id": "WmV9blK08kci",
        "outputId": "59541911-d7ee-433f-854f-8c448f39ee60"
      },
      "source": [
        "l=np.unique(y_train)\n",
        "l"
      ],
      "execution_count": null,
      "outputs": [
        {
          "output_type": "execute_result",
          "data": {
            "text/plain": [
              "array(['0', '1', '2', '3'], dtype=object)"
            ]
          },
          "metadata": {
            "tags": []
          },
          "execution_count": 405
        }
      ]
    },
    {
      "cell_type": "code",
      "metadata": {
        "colab": {
          "base_uri": "https://localhost:8080/"
        },
        "id": "d4u1nzVu9jPO",
        "outputId": "0b561d94-2292-4147-df82-9d80cddd29f7"
      },
      "source": [
        "ll=np.unique(y_test)\n",
        "ll"
      ],
      "execution_count": null,
      "outputs": [
        {
          "output_type": "execute_result",
          "data": {
            "text/plain": [
              "array(['0', '1', '2', '3'], dtype=object)"
            ]
          },
          "metadata": {
            "tags": []
          },
          "execution_count": 406
        }
      ]
    },
    {
      "cell_type": "markdown",
      "metadata": {
        "id": "ttmltkA-9tnf"
      },
      "source": [
        "During split there is a class imbalance - y test does not have class '2'\n",
        "\n",
        "So we oversample the ip and op using SMOTE - When oversampling class'2' has only 2 samples, so we set k_neighbours<2 ie 1\n",
        "\n",
        "RandomOverSampler could also be used that does not care about k-neighbours to increase the sample\n",
        "\n",
        "To reduce samples we can use NearMiss() algorithm (undersampling)"
      ]
    },
    {
      "cell_type": "code",
      "metadata": {
        "colab": {
          "base_uri": "https://localhost:8080/"
        },
        "id": "fsGDdWjjGKQj",
        "outputId": "f4915708-cab0-4f39-f806-afebc52f4545"
      },
      "source": [
        "x_train.shape,y_train.shape,x_test.shape,y_test.shape"
      ],
      "execution_count": null,
      "outputs": [
        {
          "output_type": "execute_result",
          "data": {
            "text/plain": [
              "((282, 19), (282,), (94, 19), (94,))"
            ]
          },
          "metadata": {
            "tags": []
          },
          "execution_count": 407
        }
      ]
    },
    {
      "cell_type": "markdown",
      "metadata": {
        "id": "8P_PkzVwGZEn"
      },
      "source": [
        "Applying Logistic Regression"
      ]
    },
    {
      "cell_type": "code",
      "metadata": {
        "colab": {
          "base_uri": "https://localhost:8080/"
        },
        "id": "LevZxbOlGdcu",
        "outputId": "ca273da0-43ac-4197-a1a2-84e06dd59908"
      },
      "source": [
        "from sklearn.linear_model import LogisticRegression\n",
        "model=LogisticRegression(max_iter=5000);\n",
        "x=np.array(x_train)\n",
        "y=np.ravel(y_train)\n",
        "xt=np.array(x_test)\n",
        "yt=np.ravel(y_test)\n",
        "model.fit(x,y)  \n",
        "y_train_pred=model.predict(x)\n",
        "#Calculating score - Accuracy of model\n",
        "train_score=model.score(x,y)\n",
        "train_score\n",
        "#print(x)\n",
        "#print(y)"
      ],
      "execution_count": null,
      "outputs": [
        {
          "output_type": "execute_result",
          "data": {
            "text/plain": [
              "0.7092198581560284"
            ]
          },
          "metadata": {
            "tags": []
          },
          "execution_count": 408
        }
      ]
    },
    {
      "cell_type": "markdown",
      "metadata": {
        "id": "S0RDfx6WISPd"
      },
      "source": [
        "Plot error for different iterations"
      ]
    },
    {
      "cell_type": "code",
      "metadata": {
        "id": "VOhM5dkKIPac"
      },
      "source": [
        "#error=[]\n",
        "#y_train=y_train.ravel()\n",
        "#for i in range(500,1000):\n",
        "#  lr=LogisticRegression(max_iter=i,solver='liblinear')\n",
        "  #print('k value {}'.format(i))\n",
        "#  lr.fit(x_train,y_train)\n",
        "#  pred_i=lr.predict(x_test)\n",
        "  #print(classification_report(y_test,pred_i))\n",
        "#  accuracy=accuracy_score(pred_i,y_test)*100\n",
        "#  error.append(100-accuracy)"
      ],
      "execution_count": null,
      "outputs": []
    },
    {
      "cell_type": "code",
      "metadata": {
        "id": "eTpI5PrLYRGx"
      },
      "source": [
        "#print(error)"
      ],
      "execution_count": null,
      "outputs": []
    },
    {
      "cell_type": "code",
      "metadata": {
        "id": "9TnFh37UI7N9"
      },
      "source": [
        "#plt.figure(figsize=(10,10))\n",
        "#plt.plot(range(4000,5000),error,color='red',markersize=10)\n",
        "#plt.title('Error rate vs iter')\n",
        "#plt.xlabel('iter')\n",
        "#plt.ylabel('Error')"
      ],
      "execution_count": null,
      "outputs": []
    },
    {
      "cell_type": "code",
      "metadata": {
        "id": "hsyCY1w5jSYT"
      },
      "source": [
        "#error[400]"
      ],
      "execution_count": null,
      "outputs": []
    },
    {
      "cell_type": "markdown",
      "metadata": {
        "id": "XzL42AS2jnKx"
      },
      "source": [
        "As default solver:'lbfs' is showing cannot converge and promts to change:\n",
        "\n",
        "https://towardsdatascience.com/dont-sweat-the-solver-stuff-aea7cddc3451\n",
        "\n",
        "LogisticRegression was done with (4000-5000) max iterations using solver:saga - But at error[400] still the error is 43\n",
        "\n",
        "So Logistic regression is done using (500-1000) max iterations using solver:newton-cg where error reduces to 21\n",
        "\n",
        "newton-cg (uses second derivatives - hessian matrix - slow for big databases as second derivative needs to be calculated)\n",
        "\n",
        "lbfgs-Limited-memory Broyden–Fletcher–Goldfarb–Shanno-approximates second derivative and stores  last few updates - so comparitively fast - default solver\n",
        "\n",
        "liblinear-Uses a coordinate descent algorithm. Coordinate descent is based on minimizing a multivariate function by solving univariate optimization problems in a loop. In other words, it moves toward the minimum in one direction at a time. It performs pretty well with high dimensionality. It does have a number of drawbacks. It can get stuck, is unable to run in parallel, and can only solve multi-class logistic regression with one-vs.-rest.\n",
        "\n",
        "sag-Stochastic Average Gradient descent. A variation of gradient descent and incremental aggregated gradient approaches that uses a random sample of previous gradient values. Fast for big datasets.\n",
        "\n",
        "saga-Extension of sag that also allows for L1 regularization. Should generally train faster than sag."
      ]
    },
    {
      "cell_type": "code",
      "metadata": {
        "id": "q9wd9s_4Lspf",
        "colab": {
          "base_uri": "https://localhost:8080/"
        },
        "outputId": "cf283a15-0d70-4fbc-b1f5-d92dc058a9e0"
      },
      "source": [
        "y_test_pred=model.predict(xt)\n",
        "#Calculating score - Accuracy of model\n",
        "test_score=model.score(xt,yt)\n",
        "test_score"
      ],
      "execution_count": null,
      "outputs": [
        {
          "output_type": "execute_result",
          "data": {
            "text/plain": [
              "0.5957446808510638"
            ]
          },
          "metadata": {
            "tags": []
          },
          "execution_count": 413
        }
      ]
    },
    {
      "cell_type": "code",
      "metadata": {
        "id": "iGTo3e9-NJ6r",
        "colab": {
          "base_uri": "https://localhost:8080/"
        },
        "outputId": "f97e0e21-047e-4dc5-82ea-4b9082cda1cb"
      },
      "source": [
        "from sklearn.metrics import classification_report\n",
        "print(classification_report(yt,y_test_pred))"
      ],
      "execution_count": null,
      "outputs": [
        {
          "output_type": "stream",
          "text": [
            "              precision    recall  f1-score   support\n",
            "\n",
            "           0       0.44      0.29      0.35        24\n",
            "           1       0.58      0.56      0.57        25\n",
            "           2       0.78      1.00      0.88        25\n",
            "           3       0.45      0.50      0.48        20\n",
            "\n",
            "    accuracy                           0.60        94\n",
            "   macro avg       0.56      0.59      0.57        94\n",
            "weighted avg       0.57      0.60      0.58        94\n",
            "\n"
          ],
          "name": "stdout"
        }
      ]
    },
    {
      "cell_type": "markdown",
      "metadata": {
        "id": "MkPHAp8MNn3h"
      },
      "source": [
        "Use GridCV to get best hyper parameters for logistic regression"
      ]
    },
    {
      "cell_type": "code",
      "metadata": {
        "id": "4wAZj2ZuNv1b",
        "colab": {
          "base_uri": "https://localhost:8080/"
        },
        "outputId": "19bfae11-f5e8-4f63-faef-90a71a7f085c"
      },
      "source": [
        "from sklearn.model_selection import GridSearchCV\n",
        "clf_GS=GridSearchCV(model,param_grid={})\n",
        "clf_GS.fit(x,y)"
      ],
      "execution_count": null,
      "outputs": [
        {
          "output_type": "execute_result",
          "data": {
            "text/plain": [
              "GridSearchCV(cv=None, error_score=nan,\n",
              "             estimator=LogisticRegression(C=1.0, class_weight=None, dual=False,\n",
              "                                          fit_intercept=True,\n",
              "                                          intercept_scaling=1, l1_ratio=None,\n",
              "                                          max_iter=5000, multi_class='auto',\n",
              "                                          n_jobs=None, penalty='l2',\n",
              "                                          random_state=None, solver='lbfgs',\n",
              "                                          tol=0.0001, verbose=0,\n",
              "                                          warm_start=False),\n",
              "             iid='deprecated', n_jobs=None, param_grid={},\n",
              "             pre_dispatch='2*n_jobs', refit=True, return_train_score=False,\n",
              "             scoring=None, verbose=0)"
            ]
          },
          "metadata": {
            "tags": []
          },
          "execution_count": 415
        }
      ]
    },
    {
      "cell_type": "code",
      "metadata": {
        "id": "MbCyrx2QPzro",
        "colab": {
          "base_uri": "https://localhost:8080/"
        },
        "outputId": "6787adc4-fc26-4802-c176-d82389ff557d"
      },
      "source": [
        "clf_GS.best_estimator_"
      ],
      "execution_count": null,
      "outputs": [
        {
          "output_type": "execute_result",
          "data": {
            "text/plain": [
              "LogisticRegression(C=1.0, class_weight=None, dual=False, fit_intercept=True,\n",
              "                   intercept_scaling=1, l1_ratio=None, max_iter=5000,\n",
              "                   multi_class='auto', n_jobs=None, penalty='l2',\n",
              "                   random_state=None, solver='lbfgs', tol=0.0001, verbose=0,\n",
              "                   warm_start=False)"
            ]
          },
          "metadata": {
            "tags": []
          },
          "execution_count": 416
        }
      ]
    },
    {
      "cell_type": "code",
      "metadata": {
        "id": "zhBAxNxrP_mG",
        "colab": {
          "base_uri": "https://localhost:8080/"
        },
        "outputId": "2ca5bd2c-5303-40d9-8b15-20793cbdfc49"
      },
      "source": [
        "clf_GS.best_score_"
      ],
      "execution_count": null,
      "outputs": [
        {
          "output_type": "execute_result",
          "data": {
            "text/plain": [
              "0.7090225563909774"
            ]
          },
          "metadata": {
            "tags": []
          },
          "execution_count": 417
        }
      ]
    },
    {
      "cell_type": "markdown",
      "metadata": {
        "id": "fJmDbIr_RUUr"
      },
      "source": [
        "Logistic Regression - 70% accuracy"
      ]
    },
    {
      "cell_type": "markdown",
      "metadata": {
        "id": "V78q051lReqB"
      },
      "source": [
        "Applying KNN Classifier"
      ]
    },
    {
      "cell_type": "code",
      "metadata": {
        "id": "ShyYk57DRpKx",
        "colab": {
          "base_uri": "https://localhost:8080/"
        },
        "outputId": "85a863b4-0ca6-4839-8e9c-9c0a52206c4a"
      },
      "source": [
        "from sklearn.neighbors import KNeighborsClassifier\n",
        "classifier=KNeighborsClassifier(n_neighbors=20)   #n_neighbours is k value\n",
        "classifier.fit(x_train,y_train)"
      ],
      "execution_count": null,
      "outputs": [
        {
          "output_type": "execute_result",
          "data": {
            "text/plain": [
              "KNeighborsClassifier(algorithm='auto', leaf_size=30, metric='minkowski',\n",
              "                     metric_params=None, n_jobs=None, n_neighbors=20, p=2,\n",
              "                     weights='uniform')"
            ]
          },
          "metadata": {
            "tags": []
          },
          "execution_count": 418
        }
      ]
    },
    {
      "cell_type": "code",
      "metadata": {
        "id": "Oud9Dfj5R-_p"
      },
      "source": [
        "y_pred1=classifier.predict(x_test)"
      ],
      "execution_count": null,
      "outputs": []
    },
    {
      "cell_type": "code",
      "metadata": {
        "id": "sgniGVYvSHli",
        "colab": {
          "base_uri": "https://localhost:8080/"
        },
        "outputId": "24f33eb3-fc80-4c57-c6de-9f018757ac75"
      },
      "source": [
        "from sklearn.metrics import classification_report\n",
        "print(classification_report(y_test,y_pred1))"
      ],
      "execution_count": null,
      "outputs": [
        {
          "output_type": "stream",
          "text": [
            "              precision    recall  f1-score   support\n",
            "\n",
            "           0       0.75      0.62      0.68        24\n",
            "           1       0.57      0.64      0.60        25\n",
            "           2       0.95      0.84      0.89        25\n",
            "           3       0.42      0.50      0.45        20\n",
            "\n",
            "    accuracy                           0.66        94\n",
            "   macro avg       0.67      0.65      0.66        94\n",
            "weighted avg       0.69      0.66      0.67        94\n",
            "\n"
          ],
          "name": "stdout"
        }
      ]
    },
    {
      "cell_type": "code",
      "metadata": {
        "id": "6iVMohs7SVB3",
        "colab": {
          "base_uri": "https://localhost:8080/"
        },
        "outputId": "4d4bdedc-e8e5-423c-cbb4-1e32d6dd5592"
      },
      "source": [
        "from sklearn.metrics import accuracy_score\n",
        "accuracy=accuracy_score(y_test,y_pred1)*100\n",
        "print(\"Accuracy {}%\".format(round(accuracy,2)))"
      ],
      "execution_count": null,
      "outputs": [
        {
          "output_type": "stream",
          "text": [
            "Accuracy 65.96%\n"
          ],
          "name": "stdout"
        }
      ]
    },
    {
      "cell_type": "markdown",
      "metadata": {
        "id": "lop5DUruStq1"
      },
      "source": [
        "Adjustin k value and checking accuracy"
      ]
    },
    {
      "cell_type": "code",
      "metadata": {
        "id": "TBho2Q--SzPs",
        "colab": {
          "base_uri": "https://localhost:8080/"
        },
        "outputId": "b855641f-58b6-43b2-f07a-313c72365f30"
      },
      "source": [
        "error=[]\n",
        "y_train=y_train.ravel()\n",
        "for i in range(1,20):\n",
        "  knn=KNeighborsClassifier(n_neighbors=i)\n",
        "  print('k value {}'.format(i))\n",
        "  knn.fit(x_train,y_train)\n",
        "  pred_i=knn.predict(x_test)\n",
        "  print(classification_report(y_test,pred_i))\n",
        "  accuracy=accuracy_score(pred_i,y_test)*100\n",
        "  error.append(100-(accuracy*100))"
      ],
      "execution_count": null,
      "outputs": [
        {
          "output_type": "stream",
          "text": [
            "k value 1\n",
            "              precision    recall  f1-score   support\n",
            "\n",
            "           0       0.76      0.67      0.71        24\n",
            "           1       0.84      0.84      0.84        25\n",
            "           2       0.96      1.00      0.98        25\n",
            "           3       0.82      0.90      0.86        20\n",
            "\n",
            "    accuracy                           0.85        94\n",
            "   macro avg       0.85      0.85      0.85        94\n",
            "weighted avg       0.85      0.85      0.85        94\n",
            "\n",
            "k value 2\n",
            "              precision    recall  f1-score   support\n",
            "\n",
            "           0       0.72      0.88      0.79        24\n",
            "           1       0.90      0.76      0.83        25\n",
            "           2       1.00      0.96      0.98        25\n",
            "           3       0.85      0.85      0.85        20\n",
            "\n",
            "    accuracy                           0.86        94\n",
            "   macro avg       0.87      0.86      0.86        94\n",
            "weighted avg       0.87      0.86      0.86        94\n",
            "\n",
            "k value 3\n",
            "              precision    recall  f1-score   support\n",
            "\n",
            "           0       0.74      0.71      0.72        24\n",
            "           1       0.79      0.76      0.78        25\n",
            "           2       1.00      1.00      1.00        25\n",
            "           3       0.77      0.85      0.81        20\n",
            "\n",
            "    accuracy                           0.83        94\n",
            "   macro avg       0.83      0.83      0.83        94\n",
            "weighted avg       0.83      0.83      0.83        94\n",
            "\n",
            "k value 4\n",
            "              precision    recall  f1-score   support\n",
            "\n",
            "           0       0.72      0.75      0.73        24\n",
            "           1       0.76      0.76      0.76        25\n",
            "           2       1.00      0.96      0.98        25\n",
            "           3       0.75      0.75      0.75        20\n",
            "\n",
            "    accuracy                           0.81        94\n",
            "   macro avg       0.81      0.80      0.81        94\n",
            "weighted avg       0.81      0.81      0.81        94\n",
            "\n",
            "k value 5\n",
            "              precision    recall  f1-score   support\n",
            "\n",
            "           0       0.70      0.67      0.68        24\n",
            "           1       0.84      0.64      0.73        25\n",
            "           2       1.00      0.96      0.98        25\n",
            "           3       0.64      0.90      0.75        20\n",
            "\n",
            "    accuracy                           0.79        94\n",
            "   macro avg       0.80      0.79      0.78        94\n",
            "weighted avg       0.80      0.79      0.79        94\n",
            "\n",
            "k value 6\n",
            "              precision    recall  f1-score   support\n",
            "\n",
            "           0       0.70      0.67      0.68        24\n",
            "           1       0.74      0.68      0.71        25\n",
            "           2       0.96      0.96      0.96        25\n",
            "           3       0.61      0.70      0.65        20\n",
            "\n",
            "    accuracy                           0.76        94\n",
            "   macro avg       0.75      0.75      0.75        94\n",
            "weighted avg       0.76      0.76      0.76        94\n",
            "\n",
            "k value 7\n",
            "              precision    recall  f1-score   support\n",
            "\n",
            "           0       0.76      0.67      0.71        24\n",
            "           1       0.75      0.60      0.67        25\n",
            "           2       0.96      0.96      0.96        25\n",
            "           3       0.61      0.85      0.71        20\n",
            "\n",
            "    accuracy                           0.77        94\n",
            "   macro avg       0.77      0.77      0.76        94\n",
            "weighted avg       0.78      0.77      0.76        94\n",
            "\n",
            "k value 8\n",
            "              precision    recall  f1-score   support\n",
            "\n",
            "           0       0.76      0.67      0.71        24\n",
            "           1       0.65      0.60      0.63        25\n",
            "           2       0.96      0.96      0.96        25\n",
            "           3       0.60      0.75      0.67        20\n",
            "\n",
            "    accuracy                           0.74        94\n",
            "   macro avg       0.74      0.74      0.74        94\n",
            "weighted avg       0.75      0.74      0.74        94\n",
            "\n",
            "k value 9\n",
            "              precision    recall  f1-score   support\n",
            "\n",
            "           0       0.77      0.71      0.74        24\n",
            "           1       0.68      0.52      0.59        25\n",
            "           2       0.96      0.96      0.96        25\n",
            "           3       0.57      0.80      0.67        20\n",
            "\n",
            "    accuracy                           0.74        94\n",
            "   macro avg       0.75      0.75      0.74        94\n",
            "weighted avg       0.76      0.74      0.74        94\n",
            "\n",
            "k value 10\n",
            "              precision    recall  f1-score   support\n",
            "\n",
            "           0       0.72      0.75      0.73        24\n",
            "           1       0.71      0.48      0.57        25\n",
            "           2       0.96      0.92      0.94        25\n",
            "           3       0.61      0.85      0.71        20\n",
            "\n",
            "    accuracy                           0.74        94\n",
            "   macro avg       0.75      0.75      0.74        94\n",
            "weighted avg       0.76      0.74      0.74        94\n",
            "\n",
            "k value 11\n",
            "              precision    recall  f1-score   support\n",
            "\n",
            "           0       0.75      0.75      0.75        24\n",
            "           1       0.67      0.48      0.56        25\n",
            "           2       0.96      0.92      0.94        25\n",
            "           3       0.57      0.80      0.67        20\n",
            "\n",
            "    accuracy                           0.73        94\n",
            "   macro avg       0.74      0.74      0.73        94\n",
            "weighted avg       0.75      0.73      0.73        94\n",
            "\n",
            "k value 12\n",
            "              precision    recall  f1-score   support\n",
            "\n",
            "           0       0.72      0.75      0.73        24\n",
            "           1       0.67      0.48      0.56        25\n",
            "           2       0.96      0.92      0.94        25\n",
            "           3       0.56      0.75      0.64        20\n",
            "\n",
            "    accuracy                           0.72        94\n",
            "   macro avg       0.73      0.72      0.72        94\n",
            "weighted avg       0.73      0.72      0.72        94\n",
            "\n",
            "k value 13\n",
            "              precision    recall  f1-score   support\n",
            "\n",
            "           0       0.74      0.71      0.72        24\n",
            "           1       0.63      0.48      0.55        25\n",
            "           2       0.96      0.92      0.94        25\n",
            "           3       0.54      0.75      0.63        20\n",
            "\n",
            "    accuracy                           0.71        94\n",
            "   macro avg       0.72      0.71      0.71        94\n",
            "weighted avg       0.73      0.71      0.71        94\n",
            "\n",
            "k value 14\n",
            "              precision    recall  f1-score   support\n",
            "\n",
            "           0       0.74      0.71      0.72        24\n",
            "           1       0.63      0.48      0.55        25\n",
            "           2       0.96      0.92      0.94        25\n",
            "           3       0.54      0.75      0.63        20\n",
            "\n",
            "    accuracy                           0.71        94\n",
            "   macro avg       0.72      0.71      0.71        94\n",
            "weighted avg       0.73      0.71      0.71        94\n",
            "\n",
            "k value 15\n",
            "              precision    recall  f1-score   support\n",
            "\n",
            "           0       0.73      0.67      0.70        24\n",
            "           1       0.60      0.48      0.53        25\n",
            "           2       0.96      0.92      0.94        25\n",
            "           3       0.54      0.75      0.63        20\n",
            "\n",
            "    accuracy                           0.70        94\n",
            "   macro avg       0.71      0.70      0.70        94\n",
            "weighted avg       0.71      0.70      0.70        94\n",
            "\n",
            "k value 16\n",
            "              precision    recall  f1-score   support\n",
            "\n",
            "           0       0.75      0.75      0.75        24\n",
            "           1       0.55      0.48      0.51        25\n",
            "           2       0.96      0.92      0.94        25\n",
            "           3       0.46      0.55      0.50        20\n",
            "\n",
            "    accuracy                           0.68        94\n",
            "   macro avg       0.68      0.68      0.67        94\n",
            "weighted avg       0.69      0.68      0.68        94\n",
            "\n",
            "k value 17\n",
            "              precision    recall  f1-score   support\n",
            "\n",
            "           0       0.79      0.62      0.70        24\n",
            "           1       0.61      0.56      0.58        25\n",
            "           2       0.96      0.88      0.92        25\n",
            "           3       0.48      0.70      0.57        20\n",
            "\n",
            "    accuracy                           0.69        94\n",
            "   macro avg       0.71      0.69      0.69        94\n",
            "weighted avg       0.72      0.69      0.70        94\n",
            "\n",
            "k value 18\n",
            "              precision    recall  f1-score   support\n",
            "\n",
            "           0       0.75      0.62      0.68        24\n",
            "           1       0.56      0.60      0.58        25\n",
            "           2       0.96      0.88      0.92        25\n",
            "           3       0.42      0.50      0.45        20\n",
            "\n",
            "    accuracy                           0.66        94\n",
            "   macro avg       0.67      0.65      0.66        94\n",
            "weighted avg       0.68      0.66      0.67        94\n",
            "\n",
            "k value 19\n",
            "              precision    recall  f1-score   support\n",
            "\n",
            "           0       0.79      0.62      0.70        24\n",
            "           1       0.57      0.64      0.60        25\n",
            "           2       0.95      0.84      0.89        25\n",
            "           3       0.44      0.55      0.49        20\n",
            "\n",
            "    accuracy                           0.67        94\n",
            "   macro avg       0.69      0.66      0.67        94\n",
            "weighted avg       0.70      0.67      0.68        94\n",
            "\n"
          ],
          "name": "stdout"
        }
      ]
    },
    {
      "cell_type": "markdown",
      "metadata": {
        "id": "BctB5mdBTDf5"
      },
      "source": [
        "Plot and visualize accuracy"
      ]
    },
    {
      "cell_type": "code",
      "metadata": {
        "id": "Uke2ZHMPTHEA",
        "colab": {
          "base_uri": "https://localhost:8080/",
          "height": 421
        },
        "outputId": "814554fe-f2f0-43fa-df6a-125401a349d1"
      },
      "source": [
        "plt.figure(figsize=(12,6))\n",
        "plt.plot(range(1,20),error,color='red',linestyle='dashed',marker='o',markerfacecolor='blue',markersize=10)\n",
        "plt.title('Error rate vs K value')\n",
        "plt.xlabel('k-value')\n",
        "plt.ylabel('Error')"
      ],
      "execution_count": null,
      "outputs": [
        {
          "output_type": "execute_result",
          "data": {
            "text/plain": [
              "Text(0, 0.5, 'Error')"
            ]
          },
          "metadata": {
            "tags": []
          },
          "execution_count": 423
        },
        {
          "output_type": "display_data",
          "data": {
            "image/png": "[encoded data removed]",
            "text/plain": [
              "<Figure size 864x432 with 1 Axes>"
            ]
          },
          "metadata": {
            "tags": [],
            "needs_background": "light"
          }
        }
      ]
    },
    {
      "cell_type": "markdown",
      "metadata": {
        "id": "FtVhBfIBT07j"
      },
      "source": [
        "When k=8 error is minimal and accuracy is maximum\n",
        "\n",
        "Let us check with GridCV"
      ]
    },
    {
      "cell_type": "code",
      "metadata": {
        "id": "adt8zFr9T-oa",
        "colab": {
          "base_uri": "https://localhost:8080/"
        },
        "outputId": "e6ad41f4-6caa-45d2-b60c-2108381f333e"
      },
      "source": [
        "from sklearn.model_selection import GridSearchCV\n",
        "clf_GS=GridSearchCV(knn,param_grid={})\n",
        "clf_GS.fit(x,y)"
      ],
      "execution_count": null,
      "outputs": [
        {
          "output_type": "execute_result",
          "data": {
            "text/plain": [
              "GridSearchCV(cv=None, error_score=nan,\n",
              "             estimator=KNeighborsClassifier(algorithm='auto', leaf_size=30,\n",
              "                                            metric='minkowski',\n",
              "                                            metric_params=None, n_jobs=None,\n",
              "                                            n_neighbors=19, p=2,\n",
              "                                            weights='uniform'),\n",
              "             iid='deprecated', n_jobs=None, param_grid={},\n",
              "             pre_dispatch='2*n_jobs', refit=True, return_train_score=False,\n",
              "             scoring=None, verbose=0)"
            ]
          },
          "metadata": {
            "tags": []
          },
          "execution_count": 424
        }
      ]
    },
    {
      "cell_type": "code",
      "metadata": {
        "id": "4hjUdVYcVBi-",
        "colab": {
          "base_uri": "https://localhost:8080/"
        },
        "outputId": "0f558dc4-2f33-4283-b1ae-54c620b41163"
      },
      "source": [
        "clf_GS.best_estimator_"
      ],
      "execution_count": null,
      "outputs": [
        {
          "output_type": "execute_result",
          "data": {
            "text/plain": [
              "KNeighborsClassifier(algorithm='auto', leaf_size=30, metric='minkowski',\n",
              "                     metric_params=None, n_jobs=None, n_neighbors=19, p=2,\n",
              "                     weights='uniform')"
            ]
          },
          "metadata": {
            "tags": []
          },
          "execution_count": 425
        }
      ]
    },
    {
      "cell_type": "code",
      "metadata": {
        "id": "_Jth-pLsW5dZ",
        "colab": {
          "base_uri": "https://localhost:8080/"
        },
        "outputId": "fb84fe94-bec5-495e-e71c-717167210f86"
      },
      "source": [
        "clf_GS.best_score_"
      ],
      "execution_count": null,
      "outputs": [
        {
          "output_type": "execute_result",
          "data": {
            "text/plain": [
              "0.6383458646616542"
            ]
          },
          "metadata": {
            "tags": []
          },
          "execution_count": 426
        }
      ]
    },
    {
      "cell_type": "markdown",
      "metadata": {
        "id": "mcSBYfxmXO6_"
      },
      "source": [
        "When n_neighbour=8 accuracy is high - so i fix"
      ]
    },
    {
      "cell_type": "code",
      "metadata": {
        "id": "KAb_Z-M1XWeK",
        "colab": {
          "base_uri": "https://localhost:8080/"
        },
        "outputId": "1b1879f1-cca5-45ee-e61d-69141309212d"
      },
      "source": [
        "knn=KNeighborsClassifier(n_neighbors=8)\n",
        "knn.fit(x_train,y_train)\n",
        "pred_i=knn.predict(x_test)\n",
        "print(classification_report(y_test,pred_i))\n",
        "accuracy=accuracy_score(pred_i,y_test)*100\n",
        "print(accuracy)"
      ],
      "execution_count": null,
      "outputs": [
        {
          "output_type": "stream",
          "text": [
            "              precision    recall  f1-score   support\n",
            "\n",
            "           0       0.76      0.67      0.71        24\n",
            "           1       0.65      0.60      0.63        25\n",
            "           2       0.96      0.96      0.96        25\n",
            "           3       0.60      0.75      0.67        20\n",
            "\n",
            "    accuracy                           0.74        94\n",
            "   macro avg       0.74      0.74      0.74        94\n",
            "weighted avg       0.75      0.74      0.74        94\n",
            "\n",
            "74.46808510638297\n"
          ],
          "name": "stdout"
        }
      ]
    },
    {
      "cell_type": "markdown",
      "metadata": {
        "id": "f-bKwQq6XjL9"
      },
      "source": [
        "KNN at k=8  gives 88.37% accuracy"
      ]
    },
    {
      "cell_type": "markdown",
      "metadata": {
        "id": "vLbvfDYsXxsE"
      },
      "source": [
        "Applying NaiveBayes Classifier"
      ]
    },
    {
      "cell_type": "markdown",
      "metadata": {
        "id": "DpFB63vnYR7s"
      },
      "source": [
        "Applying BournolliNB"
      ]
    },
    {
      "cell_type": "code",
      "metadata": {
        "id": "coYNuuupX33n",
        "colab": {
          "base_uri": "https://localhost:8080/"
        },
        "outputId": "f97c89f1-9041-428c-e249-de29d78293ff"
      },
      "source": [
        "from sklearn.naive_bayes import BernoulliNB   #Multiple features must be binary\n",
        "classifier1=BernoulliNB()\n",
        "classifier1.fit(x_train,y_train)\n",
        "y_pred1=classifier1.predict(x_test)\n",
        "from sklearn.metrics import classification_report\n",
        "targets=[\"Other issues\",\"Impulsive_Hyperactive_ADHD\",\"Inattentive_Distractible_ADHD\",\"Combined\"]\n",
        "print(classification_report(y_test,y_pred1,target_names=targets))"
      ],
      "execution_count": null,
      "outputs": [
        {
          "output_type": "stream",
          "text": [
            "                               precision    recall  f1-score   support\n",
            "\n",
            "                 Other issues       0.58      0.46      0.51        24\n",
            "   Impulsive_Hyperactive_ADHD       0.50      0.04      0.07        25\n",
            "Inattentive_Distractible_ADHD       0.74      1.00      0.85        25\n",
            "                     Combined       0.36      0.70      0.47        20\n",
            "\n",
            "                     accuracy                           0.54        94\n",
            "                    macro avg       0.54      0.55      0.48        94\n",
            "                 weighted avg       0.55      0.54      0.48        94\n",
            "\n"
          ],
          "name": "stdout"
        }
      ]
    },
    {
      "cell_type": "markdown",
      "metadata": {
        "id": "pKHt8RBMZUTv"
      },
      "source": [
        "Applying GuassianNB"
      ]
    },
    {
      "cell_type": "code",
      "metadata": {
        "id": "Tw0BNepqZTG9",
        "colab": {
          "base_uri": "https://localhost:8080/"
        },
        "outputId": "77ab8e15-63bb-4a41-f138-ddbfcff70d35"
      },
      "source": [
        "from sklearn.naive_bayes import GaussianNB  #For \n",
        "classifier2=GaussianNB()\n",
        "classifier2.fit(x_train,y_train)\n",
        "y_pred1=classifier2.predict(x_test)\n",
        "targets=[\"Other issues\",\"Impulsive_Hyperactive_ADHD\",\"Inattentive_Distractible_ADHD\",\"Combined\"]\n",
        "from sklearn.metrics import classification_report\n",
        "print(classification_report(y_test,y_pred1,target_names=targets))"
      ],
      "execution_count": null,
      "outputs": [
        {
          "output_type": "stream",
          "text": [
            "                               precision    recall  f1-score   support\n",
            "\n",
            "                 Other issues       0.60      0.38      0.46        24\n",
            "   Impulsive_Hyperactive_ADHD       0.00      0.00      0.00        25\n",
            "Inattentive_Distractible_ADHD       0.86      0.72      0.78        25\n",
            "                     Combined       0.33      0.95      0.49        20\n",
            "\n",
            "                     accuracy                           0.49        94\n",
            "                    macro avg       0.45      0.51      0.43        94\n",
            "                 weighted avg       0.45      0.49      0.43        94\n",
            "\n"
          ],
          "name": "stdout"
        }
      ]
    },
    {
      "cell_type": "markdown",
      "metadata": {
        "id": "G6fTN7EbZ4N6"
      },
      "source": [
        "Applying ComplementNB"
      ]
    },
    {
      "cell_type": "code",
      "metadata": {
        "id": "UU1HZHiDaBHo"
      },
      "source": [
        "#from sklearn.naive_bayes import ComplementNB\n",
        "#classifier3=ComplementNB()\n",
        "#classifier3.fit(x_train,y_train)\n",
        "#y_pred1=classifier3.predict(x_test)\n",
        "#targets=[\"Other issues\",\"Impulsive_Hyperactive_ADHD\",\"Inattentive_Distractible_ADHD\"]\n",
        "#from sklearn.metrics import classification_report\n",
        "#print(classification_report(y_test,y_pred1,target_names=targets))"
      ],
      "execution_count": null,
      "outputs": []
    },
    {
      "cell_type": "markdown",
      "metadata": {
        "id": "XNpCyHv5acOy"
      },
      "source": [
        "Applying DecisionTree"
      ]
    },
    {
      "cell_type": "code",
      "metadata": {
        "id": "cOaXF3Wza0nI",
        "colab": {
          "base_uri": "https://localhost:8080/"
        },
        "outputId": "a43080fa-70fa-4795-a9af-9ad9d30adf1c"
      },
      "source": [
        "from sklearn.tree import DecisionTreeClassifier\n",
        "adhdtree=DecisionTreeClassifier(criterion='gini',)\n",
        "adhdtree.fit(x_train,y_train)"
      ],
      "execution_count": null,
      "outputs": [
        {
          "output_type": "execute_result",
          "data": {
            "text/plain": [
              "DecisionTreeClassifier(ccp_alpha=0.0, class_weight=None, criterion='gini',\n",
              "                       max_depth=None, max_features=None, max_leaf_nodes=None,\n",
              "                       min_impurity_decrease=0.0, min_impurity_split=None,\n",
              "                       min_samples_leaf=1, min_samples_split=2,\n",
              "                       min_weight_fraction_leaf=0.0, presort='deprecated',\n",
              "                       random_state=None, splitter='best')"
            ]
          },
          "metadata": {
            "tags": []
          },
          "execution_count": 431
        }
      ]
    },
    {
      "cell_type": "code",
      "metadata": {
        "id": "U_ISp_axc9z3",
        "colab": {
          "base_uri": "https://localhost:8080/"
        },
        "outputId": "512050e4-9e5f-438f-88d0-a223111ab502"
      },
      "source": [
        "x_train.shape"
      ],
      "execution_count": null,
      "outputs": [
        {
          "output_type": "execute_result",
          "data": {
            "text/plain": [
              "(282, 19)"
            ]
          },
          "metadata": {
            "tags": []
          },
          "execution_count": 432
        }
      ]
    },
    {
      "cell_type": "code",
      "metadata": {
        "id": "0_DNPgQZbWUy",
        "colab": {
          "base_uri": "https://localhost:8080/"
        },
        "outputId": "c0167ff6-14c9-4e60-d39d-b7ad58a6a56e"
      },
      "source": [
        "all_features=raw_data.columns\n",
        "all_features\n",
        "ip_features=all_features.delete(3)\n",
        "ip_features"
      ],
      "execution_count": null,
      "outputs": [
        {
          "output_type": "execute_result",
          "data": {
            "text/plain": [
              "Index(['Gender', 'Age', 'Handedness', 'ADHD Measure', 'ADHD Index',\n",
              "       'Inattentive', 'Hyper/Impulsive', 'Med Status', 'IQ Measure',\n",
              "       'Verbal IQ', 'Performance IQ', 'Full2 IQ', 'Full4 IQ', 'QC_Rest_1',\n",
              "       'QC_Rest_2', 'QC_Rest_3', 'QC_Rest_4', 'QC_Anatomical_1',\n",
              "       'QC_Anatomical_2'],\n",
              "      dtype='object')"
            ]
          },
          "metadata": {
            "tags": []
          },
          "execution_count": 433
        }
      ]
    },
    {
      "cell_type": "code",
      "metadata": {
        "id": "RK75ofSsbq5w"
      },
      "source": [
        "adhd_label='DX'"
      ],
      "execution_count": null,
      "outputs": []
    },
    {
      "cell_type": "code",
      "metadata": {
        "id": "bkVeCzFNej-o"
      },
      "source": [
        "y_pred_train=adhdtree.predict(x_train)\n",
        "y_pred_test=adhdtree.predict(x_test)"
      ],
      "execution_count": null,
      "outputs": []
    },
    {
      "cell_type": "code",
      "metadata": {
        "id": "1h9dN1LAet_K",
        "colab": {
          "base_uri": "https://localhost:8080/"
        },
        "outputId": "37fc27ab-275a-4aff-bd22-48686ee1c1a9"
      },
      "source": [
        "from sklearn.metrics import accuracy_score\n",
        "train_accuracy=accuracy_score(y_train,y_pred_train)\n",
        "test_accuracy=accuracy_score(y_test,y_pred_test)\n",
        "print(\"train Accuracy {}%\".format(train_accuracy*100))\n",
        "print(\"test Accuracy {}%\".format(test_accuracy*100))"
      ],
      "execution_count": null,
      "outputs": [
        {
          "output_type": "stream",
          "text": [
            "train Accuracy 100.0%\n",
            "test Accuracy 77.6595744680851%\n"
          ],
          "name": "stdout"
        }
      ]
    },
    {
      "cell_type": "markdown",
      "metadata": {
        "id": "rhBQwhVbezfb"
      },
      "source": [
        "In decision tree we are facing over fitting and let us try to prune by adjusting the ccp_alpha"
      ]
    },
    {
      "cell_type": "code",
      "metadata": {
        "id": "MGN5FuIte9XA"
      },
      "source": [
        "path=adhdtree.cost_complexity_pruning_path(x_train,y_train)"
      ],
      "execution_count": null,
      "outputs": []
    },
    {
      "cell_type": "code",
      "metadata": {
        "id": "XRBW-ZLGfGJ-",
        "colab": {
          "base_uri": "https://localhost:8080/"
        },
        "outputId": "f3418dbb-6918-477d-9b55-09d77b2f9b53"
      },
      "source": [
        "alpha=path.ccp_alphas\n",
        "print(alpha)"
      ],
      "execution_count": null,
      "outputs": [
        {
          "output_type": "stream",
          "text": [
            "[0.         0.00321365 0.00329281 0.00332447 0.00332447 0.00336879\n",
            " 0.00337724 0.0034279  0.0035461  0.00567376 0.00570753 0.00591017\n",
            " 0.00609591 0.0062839  0.0062839  0.00644745 0.00664226 0.00797872\n",
            " 0.00896868 0.01174691 0.01182033 0.01431335 0.01489362 0.01737589\n",
            " 0.01746185 0.02235937 0.02455998 0.02752924 0.02879005 0.03680007\n",
            " 0.03682511 0.04844033 0.11015474 0.14887048]\n"
          ],
          "name": "stdout"
        }
      ]
    },
    {
      "cell_type": "code",
      "metadata": {
        "id": "7f6Vqz3DfMGk",
        "colab": {
          "base_uri": "https://localhost:8080/"
        },
        "outputId": "f8a0380d-5e9a-471f-e6f1-49aa9f5f89fe"
      },
      "source": [
        "len(alpha)"
      ],
      "execution_count": null,
      "outputs": [
        {
          "output_type": "execute_result",
          "data": {
            "text/plain": [
              "34"
            ]
          },
          "metadata": {
            "tags": []
          },
          "execution_count": 439
        }
      ]
    },
    {
      "cell_type": "code",
      "metadata": {
        "id": "OToZnol5fPPD",
        "colab": {
          "base_uri": "https://localhost:8080/"
        },
        "outputId": "111ff65c-0e54-4c31-c72e-386070a3a840"
      },
      "source": [
        "impurities=path.impurities\n",
        "print(impurities)"
      ],
      "execution_count": null,
      "outputs": [
        {
          "output_type": "stream",
          "text": [
            "[0.         0.01285461 0.01944022 0.02608916 0.0327381  0.03947568\n",
            " 0.04623016 0.05308595 0.05663205 0.06230581 0.06801334 0.07392351\n",
            " 0.08001942 0.08630332 0.09258721 0.09903467 0.10567693 0.11365565\n",
            " 0.131593   0.14333992 0.15516025 0.16947359 0.18436721 0.2017431\n",
            " 0.2366668  0.25902617 0.28358615 0.31111539 0.3686955  0.40549557\n",
            " 0.44232068 0.49076101 0.60091575 0.74978623]\n"
          ],
          "name": "stdout"
        }
      ]
    },
    {
      "cell_type": "markdown",
      "metadata": {
        "id": "uzs58YSsfVXB"
      },
      "source": [
        "plot alpha and impurities"
      ]
    },
    {
      "cell_type": "code",
      "metadata": {
        "id": "sygFD8COfcXG",
        "colab": {
          "base_uri": "https://localhost:8080/",
          "height": 298
        },
        "outputId": "5053bde6-bbca-48a2-8b57-bb6bcff24e42"
      },
      "source": [
        "fig,ax=plt.subplots()\n",
        "ax.plot(alpha[:-1],impurities[:-1],marker='o',drawstyle=\"steps-post\")\n",
        "ax.set_xlabel='effective alpha'\n",
        "ax.set_ylabel('total impurities os leaves')\n",
        "ax.set_title('alpha vs impurities')"
      ],
      "execution_count": null,
      "outputs": [
        {
          "output_type": "execute_result",
          "data": {
            "text/plain": [
              "Text(0.5, 1.0, 'alpha vs impurities')"
            ]
          },
          "metadata": {
            "tags": []
          },
          "execution_count": 441
        },
        {
          "output_type": "display_data",
          "data": {
            "image/png": "[encoded data removed]",
            "text/plain": [
              "<Figure size 432x288 with 1 Axes>"
            ]
          },
          "metadata": {
            "tags": [],
            "needs_background": "light"
          }
        }
      ]
    },
    {
      "cell_type": "markdown",
      "metadata": {
        "id": "RhBUJWbxfqCn"
      },
      "source": [
        "Applying ccp_alphas from the array"
      ]
    },
    {
      "cell_type": "code",
      "metadata": {
        "id": "6EYqinOofvIf"
      },
      "source": [
        "new_adhd_trees=[]\n",
        "i=0\n",
        "for a in alpha:\n",
        "  new_adhd_tree=DecisionTreeClassifier(criterion='gini',ccp_alpha=a)\n",
        "  new_adhd_tree.fit(x_train,y_train)\n",
        "  new_adhd_trees.append(new_adhd_tree)\n",
        "  #dot_name='survive_tree'+str(i)+'.dot'\n",
        "  #export_graphviz(survivetree,out_file=dot_name,feature_names=ip_features,class_names=surived_label,rounded=True,precision=1,filled=True,special_characters=True,)\n",
        "  #graph=gr.graph_from_dot_file(dot_name)\n",
        "  #png='survive_tree_png'+str(i)+'.png'\n",
        "  #graph.write_png(png)\n",
        "  i=i+1"
      ],
      "execution_count": null,
      "outputs": []
    },
    {
      "cell_type": "markdown",
      "metadata": {
        "id": "dUgqdr36gCdN"
      },
      "source": [
        "Find position of best alpha in train"
      ]
    },
    {
      "cell_type": "code",
      "metadata": {
        "id": "0uUXLNLjgRvh",
        "colab": {
          "base_uri": "https://localhost:8080/"
        },
        "outputId": "5da52d63-43b6-4d5f-a2ab-789d425281e7"
      },
      "source": [
        "train_scores=[new_adhd_tree.score(x_train,y_train) for new_adhd_tree in new_adhd_trees]\n",
        "print(train_scores)\n",
        "print('max f1 train score={}'.format(max(train_scores)))\n",
        "print('position of max train scores{}'.format(np.argmax(train_scores)))"
      ],
      "execution_count": null,
      "outputs": [
        {
          "output_type": "stream",
          "text": [
            "[1.0, 0.9929078014184397, 0.9893617021276596, 0.9822695035460993, 0.9822695035460993, 0.9787234042553191, 0.975177304964539, 0.9716312056737588, 0.9680851063829787, 0.9645390070921985, 0.9609929078014184, 0.9574468085106383, 0.9539007092198581, 0.9468085106382979, 0.9468085106382979, 0.9432624113475178, 0.9397163120567376, 0.9361702127659575, 0.9219858156028369, 0.9148936170212766, 0.9042553191489362, 0.8936170212765957, 0.8829787234042553, 0.8687943262411347, 0.8368794326241135, 0.8156028368794326, 0.7872340425531915, 0.7730496453900709, 0.7127659574468085, 0.6914893617021277, 0.6702127659574468, 0.5602836879432624, 0.48936170212765956, 0.2624113475177305]\n",
            "max f1 train score=1.0\n",
            "position of max train scores0\n"
          ],
          "name": "stdout"
        }
      ]
    },
    {
      "cell_type": "markdown",
      "metadata": {
        "id": "BTLjhidDhEXg"
      },
      "source": [
        "Find position of best alpha in test"
      ]
    },
    {
      "cell_type": "code",
      "metadata": {
        "id": "4ct_YdyihJky",
        "colab": {
          "base_uri": "https://localhost:8080/"
        },
        "outputId": "8195b532-8436-4dd6-d668-9564ee77f280"
      },
      "source": [
        "test_scores=[new_adhd_tree.score(x_test,y_test) for new_adhd_tree in new_adhd_trees]\n",
        "print(test_scores)\n",
        "print('max f1 test score={}'.format(max(test_scores)))\n",
        "print('position of max test scores{}'.format(np.argmax(test_scores)))"
      ],
      "execution_count": null,
      "outputs": [
        {
          "output_type": "stream",
          "text": [
            "[0.776595744680851, 0.776595744680851, 0.8297872340425532, 0.7978723404255319, 0.776595744680851, 0.776595744680851, 0.7659574468085106, 0.8085106382978723, 0.776595744680851, 0.7659574468085106, 0.776595744680851, 0.7659574468085106, 0.7553191489361702, 0.7446808510638298, 0.7553191489361702, 0.7553191489361702, 0.7553191489361702, 0.7446808510638298, 0.776595744680851, 0.7553191489361702, 0.7872340425531915, 0.776595744680851, 0.7659574468085106, 0.723404255319149, 0.7127659574468085, 0.7127659574468085, 0.6808510638297872, 0.6808510638297872, 0.6808510638297872, 0.6595744680851063, 0.6702127659574468, 0.5425531914893617, 0.46808510638297873, 0.2127659574468085]\n",
            "max f1 test score=0.8297872340425532\n",
            "position of max test scores2\n"
          ],
          "name": "stdout"
        }
      ]
    },
    {
      "cell_type": "markdown",
      "metadata": {
        "id": "xPlxqzqMhVYJ"
      },
      "source": [
        "Visualize best ccp_alpha"
      ]
    },
    {
      "cell_type": "code",
      "metadata": {
        "id": "C4d2plZdhYP0",
        "colab": {
          "base_uri": "https://localhost:8080/",
          "height": 298
        },
        "outputId": "2232a162-558f-4b5e-cbec-6fd0733a0391"
      },
      "source": [
        "fig,ax=plt.subplots()\n",
        "ax.set_xlabel='alpha'\n",
        "ax.set_ylabel('accuracy')\n",
        "ax.set_title('accuracy vs alpha for train and test')\n",
        "ax.plot(alpha,train_scores,marker='o',drawstyle=\"steps-post\")\n",
        "ax.plot(alpha,test_scores,marker='o',drawstyle=\"steps-post\")\n",
        "ax.legend()\n",
        "plt.show()"
      ],
      "execution_count": null,
      "outputs": [
        {
          "output_type": "stream",
          "text": [
            "No handles with labels found to put in legend.\n"
          ],
          "name": "stderr"
        },
        {
          "output_type": "display_data",
          "data": {
            "image/png": "[encoded data removed]",
            "text/plain": [
              "<Figure size 432x288 with 1 Axes>"
            ]
          },
          "metadata": {
            "tags": [],
            "needs_background": "light"
          }
        }
      ]
    },
    {
      "cell_type": "markdown",
      "metadata": {
        "id": "rH0AZUm8hwYk"
      },
      "source": [
        "So ccp_alpha=12th value looks better\n",
        "\n",
        "Applying the ccp_alpha=12th value to avoid overfitting and to prune"
      ]
    },
    {
      "cell_type": "code",
      "metadata": {
        "id": "qRD0-7RVh4h6"
      },
      "source": [
        "from sklearn.tree import DecisionTreeClassifier\n",
        "prunedtree=DecisionTreeClassifier(criterion='gini',ccp_alpha=alpha[12])\n",
        "prunedtree.fit(x_train,y_train)\n",
        "new_y_pred_train=prunedtree.predict(x_train)\n",
        "new_y_pred_test=prunedtree.predict(x_test)"
      ],
      "execution_count": null,
      "outputs": []
    },
    {
      "cell_type": "code",
      "metadata": {
        "id": "X1ApdX2KiIIK",
        "colab": {
          "base_uri": "https://localhost:8080/"
        },
        "outputId": "422b5d75-6d19-4237-8759-e733f55d2691"
      },
      "source": [
        "from sklearn.metrics import accuracy_score\n",
        "train_accuracy_new=accuracy_score(y_train,new_y_pred_train)\n",
        "test_accuracy_new=accuracy_score(y_test,new_y_pred_test)\n",
        "print(\"train Accuracy {}%\".format(train_accuracy_new*100))\n",
        "print(\"test Accuracy {}%\".format(test_accuracy_new*100))"
      ],
      "execution_count": null,
      "outputs": [
        {
          "output_type": "stream",
          "text": [
            "train Accuracy 95.39007092198581%\n",
            "test Accuracy 76.59574468085107%\n"
          ],
          "name": "stdout"
        }
      ]
    },
    {
      "cell_type": "code",
      "metadata": {
        "id": "9cFOtlbF0_jG",
        "colab": {
          "base_uri": "https://localhost:8080/"
        },
        "outputId": "4be8deec-6f77-47e0-f8d7-19e87281ab07"
      },
      "source": [
        "from sklearn.metrics import classification_report\n",
        "print(classification_report(y_train,new_y_pred_train))"
      ],
      "execution_count": null,
      "outputs": [
        {
          "output_type": "stream",
          "text": [
            "              precision    recall  f1-score   support\n",
            "\n",
            "           0       0.93      0.94      0.94        70\n",
            "           1       0.93      0.97      0.95        69\n",
            "           2       1.00      0.99      0.99        69\n",
            "           3       0.96      0.92      0.94        74\n",
            "\n",
            "    accuracy                           0.95       282\n",
            "   macro avg       0.95      0.95      0.95       282\n",
            "weighted avg       0.95      0.95      0.95       282\n",
            "\n"
          ],
          "name": "stdout"
        }
      ]
    },
    {
      "cell_type": "code",
      "metadata": {
        "id": "W63L5wqE1DR6",
        "colab": {
          "base_uri": "https://localhost:8080/"
        },
        "outputId": "78d8b80e-e185-4064-db6d-d7db8b6d4244"
      },
      "source": [
        "from sklearn.metrics import classification_report\n",
        "print(classification_report(y_test,new_y_pred_test))"
      ],
      "execution_count": null,
      "outputs": [
        {
          "output_type": "stream",
          "text": [
            "              precision    recall  f1-score   support\n",
            "\n",
            "           0       0.69      0.75      0.72        24\n",
            "           1       0.67      0.72      0.69        25\n",
            "           2       1.00      1.00      1.00        25\n",
            "           3       0.69      0.55      0.61        20\n",
            "\n",
            "    accuracy                           0.77        94\n",
            "   macro avg       0.76      0.75      0.76        94\n",
            "weighted avg       0.77      0.77      0.76        94\n",
            "\n"
          ],
          "name": "stdout"
        }
      ]
    },
    {
      "cell_type": "markdown",
      "metadata": {
        "id": "2BVdlEYsiXsC"
      },
      "source": [
        "Now we see overfitting is reduced\n",
        "\n",
        "Check by applying Grid CV"
      ]
    },
    {
      "cell_type": "code",
      "metadata": {
        "id": "p3w7ARJrinft",
        "colab": {
          "base_uri": "https://localhost:8080/"
        },
        "outputId": "ac29fba4-02d8-4fa2-9cb5-0fe782593d4b"
      },
      "source": [
        "from sklearn.tree import DecisionTreeClassifier\n",
        "adhdtreenew=DecisionTreeClassifier()\n",
        "adhdtreenew.fit(x_train,y_train)"
      ],
      "execution_count": null,
      "outputs": [
        {
          "output_type": "execute_result",
          "data": {
            "text/plain": [
              "DecisionTreeClassifier(ccp_alpha=0.0, class_weight=None, criterion='gini',\n",
              "                       max_depth=None, max_features=None, max_leaf_nodes=None,\n",
              "                       min_impurity_decrease=0.0, min_impurity_split=None,\n",
              "                       min_samples_leaf=1, min_samples_split=2,\n",
              "                       min_weight_fraction_leaf=0.0, presort='deprecated',\n",
              "                       random_state=None, splitter='best')"
            ]
          },
          "metadata": {
            "tags": []
          },
          "execution_count": 450
        }
      ]
    },
    {
      "cell_type": "code",
      "metadata": {
        "id": "XB7MwR2kixKE"
      },
      "source": [
        "param_dict={\"criterion\":[\"gini\",\"entropy\"],\"max_depth\":range(1,62),\"ccp_alpha\":range(0,1),\"max_depth\":range(0,30)}"
      ],
      "execution_count": null,
      "outputs": []
    },
    {
      "cell_type": "code",
      "metadata": {
        "id": "ccn4RyMBjFVi",
        "colab": {
          "base_uri": "https://localhost:8080/"
        },
        "outputId": "f4067f4f-adee-421a-d3bc-7893538c7808"
      },
      "source": [
        "from sklearn.model_selection import GridSearchCV\n",
        "clf_GS=GridSearchCV(adhdtreenew,param_dict,cv=10,verbose=1,n_jobs=-1)\n",
        "clf_GS.fit(x_train,y_train)"
      ],
      "execution_count": null,
      "outputs": [
        {
          "output_type": "stream",
          "text": [
            "Fitting 10 folds for each of 60 candidates, totalling 600 fits\n"
          ],
          "name": "stdout"
        },
        {
          "output_type": "stream",
          "text": [
            "[Parallel(n_jobs=-1)]: Using backend LokyBackend with 2 concurrent workers.\n",
            "[Parallel(n_jobs=-1)]: Done 550 tasks      | elapsed:    2.2s\n",
            "[Parallel(n_jobs=-1)]: Done 600 out of 600 | elapsed:    2.3s finished\n"
          ],
          "name": "stderr"
        },
        {
          "output_type": "execute_result",
          "data": {
            "text/plain": [
              "GridSearchCV(cv=10, error_score=nan,\n",
              "             estimator=DecisionTreeClassifier(ccp_alpha=0.0, class_weight=None,\n",
              "                                              criterion='gini', max_depth=None,\n",
              "                                              max_features=None,\n",
              "                                              max_leaf_nodes=None,\n",
              "                                              min_impurity_decrease=0.0,\n",
              "                                              min_impurity_split=None,\n",
              "                                              min_samples_leaf=1,\n",
              "                                              min_samples_split=2,\n",
              "                                              min_weight_fraction_leaf=0.0,\n",
              "                                              presort='deprecated',\n",
              "                                              random_state=None,\n",
              "                                              splitter='best'),\n",
              "             iid='deprecated', n_jobs=-1,\n",
              "             param_grid={'ccp_alpha': range(0, 1),\n",
              "                         'criterion': ['gini', 'entropy'],\n",
              "                         'max_depth': range(0, 30)},\n",
              "             pre_dispatch='2*n_jobs', refit=True, return_train_score=False,\n",
              "             scoring=None, verbose=1)"
            ]
          },
          "metadata": {
            "tags": []
          },
          "execution_count": 452
        }
      ]
    },
    {
      "cell_type": "code",
      "metadata": {
        "id": "48MzeBOjjM1J",
        "colab": {
          "base_uri": "https://localhost:8080/"
        },
        "outputId": "7069cc0b-56d4-432f-cdea-bb8dbcc6fbbb"
      },
      "source": [
        "clf_GS.best_params_"
      ],
      "execution_count": null,
      "outputs": [
        {
          "output_type": "execute_result",
          "data": {
            "text/plain": [
              "{'ccp_alpha': 0, 'criterion': 'entropy', 'max_depth': 21}"
            ]
          },
          "metadata": {
            "tags": []
          },
          "execution_count": 453
        }
      ]
    },
    {
      "cell_type": "code",
      "metadata": {
        "id": "S81q_cnejYE6",
        "colab": {
          "base_uri": "https://localhost:8080/"
        },
        "outputId": "0ca93da3-57ef-4d9b-c32c-a4aa22e8d8c8"
      },
      "source": [
        "clf_GS.best_estimator_"
      ],
      "execution_count": null,
      "outputs": [
        {
          "output_type": "execute_result",
          "data": {
            "text/plain": [
              "DecisionTreeClassifier(ccp_alpha=0, class_weight=None, criterion='entropy',\n",
              "                       max_depth=21, max_features=None, max_leaf_nodes=None,\n",
              "                       min_impurity_decrease=0.0, min_impurity_split=None,\n",
              "                       min_samples_leaf=1, min_samples_split=2,\n",
              "                       min_weight_fraction_leaf=0.0, presort='deprecated',\n",
              "                       random_state=None, splitter='best')"
            ]
          },
          "metadata": {
            "tags": []
          },
          "execution_count": 454
        }
      ]
    },
    {
      "cell_type": "code",
      "metadata": {
        "id": "uGCbh_rhjf8u",
        "colab": {
          "base_uri": "https://localhost:8080/"
        },
        "outputId": "5beed616-336c-4995-d4a6-97f8f08b4c2e"
      },
      "source": [
        "clf_GS.best_index_"
      ],
      "execution_count": null,
      "outputs": [
        {
          "output_type": "execute_result",
          "data": {
            "text/plain": [
              "51"
            ]
          },
          "metadata": {
            "tags": []
          },
          "execution_count": 455
        }
      ]
    },
    {
      "cell_type": "code",
      "metadata": {
        "id": "08ukyU_njpRP",
        "colab": {
          "base_uri": "https://localhost:8080/"
        },
        "outputId": "1defe6c8-53fb-4b39-b028-c73036fcba89"
      },
      "source": [
        "clf_GS.best_score_"
      ],
      "execution_count": null,
      "outputs": [
        {
          "output_type": "execute_result",
          "data": {
            "text/plain": [
              "0.8402709359605911"
            ]
          },
          "metadata": {
            "tags": []
          },
          "execution_count": 456
        }
      ]
    },
    {
      "cell_type": "markdown",
      "metadata": {
        "id": "0QCkMuLOk87e"
      },
      "source": [
        "Among all KNN at k=8 gives high accuracy"
      ]
    }
  ]
}